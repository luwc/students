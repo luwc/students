{
  "nbformat": 4,
  "nbformat_minor": 0,
  "metadata": {
    "colab": {
      "provenance": [],
      "authorship_tag": "ABX9TyMsknUbntoPM2kGLr/3Uw97",
      "include_colab_link": true
    },
    "kernelspec": {
      "name": "python3",
      "display_name": "Python 3"
    },
    "language_info": {
      "name": "python"
    }
  },
  "cells": [
    {
      "cell_type": "markdown",
      "metadata": {
        "id": "view-in-github",
        "colab_type": "text"
      },
      "source": [
        "<a href=\"https://colab.research.google.com/github/luwc/students/blob/master/Untitled5.ipynb\" target=\"_parent\"><img src=\"https://colab.research.google.com/assets/colab-badge.svg\" alt=\"Open In Colab\"/></a>"
      ]
    },
    {
      "cell_type": "code",
      "execution_count": null,
      "metadata": {
        "id": "n29l62uwyTTy"
      },
      "outputs": [],
      "source": [
        "import numpy as np\n",
        "import pandas as pd\n",
        "from keras import Sequential\n",
        "from keras.layers import Input, Dense\n"
      ]
    },
    {
      "cell_type": "code",
      "source": [
        "import os"
      ],
      "metadata": {
        "id": "2h8FgLCIyx5M"
      },
      "execution_count": null,
      "outputs": []
    },
    {
      "cell_type": "code",
      "source": [],
      "metadata": {
        "id": "LH0UAtgUyyBA"
      },
      "execution_count": null,
      "outputs": []
    },
    {
      "cell_type": "code",
      "source": [
        "import os\n",
        "os.environ[\"KERAS_BACKEND\"] = \"tensorflow\"\n"
      ],
      "metadata": {
        "id": "EYB_qtoqCkP3"
      },
      "execution_count": null,
      "outputs": []
    },
    {
      "cell_type": "code",
      "source": [
        "from google.colab import drive\n",
        "drive.mount('/content/drive')"
      ],
      "metadata": {
        "colab": {
          "base_uri": "https://localhost:8080/"
        },
        "id": "VKk8-Yhf0NGb",
        "outputId": "6d955ae3-0e56-42ca-a493-589ec810328c"
      },
      "execution_count": null,
      "outputs": [
        {
          "output_type": "stream",
          "name": "stdout",
          "text": [
            "Mounted at /content/drive\n"
          ]
        }
      ]
    },
    {
      "cell_type": "code",
      "source": [
        "os.chdir('/content/drive/My Drive/AA')\n"
      ],
      "metadata": {
        "id": "2VGCBw940NSZ"
      },
      "execution_count": null,
      "outputs": []
    },
    {
      "cell_type": "code",
      "source": [],
      "metadata": {
        "id": "I4IlS8462k0u"
      },
      "execution_count": null,
      "outputs": []
    },
    {
      "cell_type": "code",
      "source": [
        "os.listdir()"
      ],
      "metadata": {
        "colab": {
          "base_uri": "https://localhost:8080/"
        },
        "id": "DSp-pCYY2k5f",
        "outputId": "162358a1-f852-4ceb-b02a-de6ec7e06bd4"
      },
      "execution_count": null,
      "outputs": [
        {
          "output_type": "execute_result",
          "data": {
            "text/plain": [
              "['iris.csv',\n",
              " 'boston_housing.csv',\n",
              " 'diabetes.csv',\n",
              " 'train.csv',\n",
              " 'eval.csv',\n",
              " '新北房屋資料+6指標.xlsx',\n",
              " 'houseprice.csv']"
            ]
          },
          "metadata": {},
          "execution_count": 12
        }
      ]
    },
    {
      "cell_type": "code",
      "source": [],
      "metadata": {
        "id": "xtH6art62k8u"
      },
      "execution_count": null,
      "outputs": []
    },
    {
      "cell_type": "code",
      "source": [
        "df=pd.read_csv('/content/drive/My Drive/AA/houseprice.csv')\n",
        "df.head()"
      ],
      "metadata": {
        "colab": {
          "base_uri": "https://localhost:8080/",
          "height": 206
        },
        "id": "2-PnWXrYkQKS",
        "outputId": "bfdf70bb-6329-4193-bc08-d5fa99c2e1ea"
      },
      "execution_count": null,
      "outputs": [
        {
          "output_type": "execute_result",
          "data": {
            "text/plain": [
              "      TP    AP   AREA  TYPE  AGE\n",
              "0  190.0   4.7  40.08     1   22\n",
              "1  220.0   7.5  29.47     1   31\n",
              "2  285.0   8.7  32.94     1   19\n",
              "3  200.0  10.5  19.09     3   15\n",
              "4  460.0  21.2  21.69     6   31"
            ],
            "text/html": [
              "\n",
              "  <div id=\"df-b6e8b57a-008e-4678-b2f4-d8486f0cce8a\" class=\"colab-df-container\">\n",
              "    <div>\n",
              "<style scoped>\n",
              "    .dataframe tbody tr th:only-of-type {\n",
              "        vertical-align: middle;\n",
              "    }\n",
              "\n",
              "    .dataframe tbody tr th {\n",
              "        vertical-align: top;\n",
              "    }\n",
              "\n",
              "    .dataframe thead th {\n",
              "        text-align: right;\n",
              "    }\n",
              "</style>\n",
              "<table border=\"1\" class=\"dataframe\">\n",
              "  <thead>\n",
              "    <tr style=\"text-align: right;\">\n",
              "      <th></th>\n",
              "      <th>TP</th>\n",
              "      <th>AP</th>\n",
              "      <th>AREA</th>\n",
              "      <th>TYPE</th>\n",
              "      <th>AGE</th>\n",
              "    </tr>\n",
              "  </thead>\n",
              "  <tbody>\n",
              "    <tr>\n",
              "      <th>0</th>\n",
              "      <td>190.0</td>\n",
              "      <td>4.7</td>\n",
              "      <td>40.08</td>\n",
              "      <td>1</td>\n",
              "      <td>22</td>\n",
              "    </tr>\n",
              "    <tr>\n",
              "      <th>1</th>\n",
              "      <td>220.0</td>\n",
              "      <td>7.5</td>\n",
              "      <td>29.47</td>\n",
              "      <td>1</td>\n",
              "      <td>31</td>\n",
              "    </tr>\n",
              "    <tr>\n",
              "      <th>2</th>\n",
              "      <td>285.0</td>\n",
              "      <td>8.7</td>\n",
              "      <td>32.94</td>\n",
              "      <td>1</td>\n",
              "      <td>19</td>\n",
              "    </tr>\n",
              "    <tr>\n",
              "      <th>3</th>\n",
              "      <td>200.0</td>\n",
              "      <td>10.5</td>\n",
              "      <td>19.09</td>\n",
              "      <td>3</td>\n",
              "      <td>15</td>\n",
              "    </tr>\n",
              "    <tr>\n",
              "      <th>4</th>\n",
              "      <td>460.0</td>\n",
              "      <td>21.2</td>\n",
              "      <td>21.69</td>\n",
              "      <td>6</td>\n",
              "      <td>31</td>\n",
              "    </tr>\n",
              "  </tbody>\n",
              "</table>\n",
              "</div>\n",
              "    <div class=\"colab-df-buttons\">\n",
              "\n",
              "  <div class=\"colab-df-container\">\n",
              "    <button class=\"colab-df-convert\" onclick=\"convertToInteractive('df-b6e8b57a-008e-4678-b2f4-d8486f0cce8a')\"\n",
              "            title=\"Convert this dataframe to an interactive table.\"\n",
              "            style=\"display:none;\">\n",
              "\n",
              "  <svg xmlns=\"http://www.w3.org/2000/svg\" height=\"24px\" viewBox=\"0 -960 960 960\">\n",
              "    <path d=\"M120-120v-720h720v720H120Zm60-500h600v-160H180v160Zm220 220h160v-160H400v160Zm0 220h160v-160H400v160ZM180-400h160v-160H180v160Zm440 0h160v-160H620v160ZM180-180h160v-160H180v160Zm440 0h160v-160H620v160Z\"/>\n",
              "  </svg>\n",
              "    </button>\n",
              "\n",
              "  <style>\n",
              "    .colab-df-container {\n",
              "      display:flex;\n",
              "      gap: 12px;\n",
              "    }\n",
              "\n",
              "    .colab-df-convert {\n",
              "      background-color: #E8F0FE;\n",
              "      border: none;\n",
              "      border-radius: 50%;\n",
              "      cursor: pointer;\n",
              "      display: none;\n",
              "      fill: #1967D2;\n",
              "      height: 32px;\n",
              "      padding: 0 0 0 0;\n",
              "      width: 32px;\n",
              "    }\n",
              "\n",
              "    .colab-df-convert:hover {\n",
              "      background-color: #E2EBFA;\n",
              "      box-shadow: 0px 1px 2px rgba(60, 64, 67, 0.3), 0px 1px 3px 1px rgba(60, 64, 67, 0.15);\n",
              "      fill: #174EA6;\n",
              "    }\n",
              "\n",
              "    .colab-df-buttons div {\n",
              "      margin-bottom: 4px;\n",
              "    }\n",
              "\n",
              "    [theme=dark] .colab-df-convert {\n",
              "      background-color: #3B4455;\n",
              "      fill: #D2E3FC;\n",
              "    }\n",
              "\n",
              "    [theme=dark] .colab-df-convert:hover {\n",
              "      background-color: #434B5C;\n",
              "      box-shadow: 0px 1px 3px 1px rgba(0, 0, 0, 0.15);\n",
              "      filter: drop-shadow(0px 1px 2px rgba(0, 0, 0, 0.3));\n",
              "      fill: #FFFFFF;\n",
              "    }\n",
              "  </style>\n",
              "\n",
              "    <script>\n",
              "      const buttonEl =\n",
              "        document.querySelector('#df-b6e8b57a-008e-4678-b2f4-d8486f0cce8a button.colab-df-convert');\n",
              "      buttonEl.style.display =\n",
              "        google.colab.kernel.accessAllowed ? 'block' : 'none';\n",
              "\n",
              "      async function convertToInteractive(key) {\n",
              "        const element = document.querySelector('#df-b6e8b57a-008e-4678-b2f4-d8486f0cce8a');\n",
              "        const dataTable =\n",
              "          await google.colab.kernel.invokeFunction('convertToInteractive',\n",
              "                                                    [key], {});\n",
              "        if (!dataTable) return;\n",
              "\n",
              "        const docLinkHtml = 'Like what you see? Visit the ' +\n",
              "          '<a target=\"_blank\" href=https://colab.research.google.com/notebooks/data_table.ipynb>data table notebook</a>'\n",
              "          + ' to learn more about interactive tables.';\n",
              "        element.innerHTML = '';\n",
              "        dataTable['output_type'] = 'display_data';\n",
              "        await google.colab.output.renderOutput(dataTable, element);\n",
              "        const docLink = document.createElement('div');\n",
              "        docLink.innerHTML = docLinkHtml;\n",
              "        element.appendChild(docLink);\n",
              "      }\n",
              "    </script>\n",
              "  </div>\n",
              "\n",
              "\n",
              "<div id=\"df-4d724553-97b3-4902-9935-d372e5b71b2b\">\n",
              "  <button class=\"colab-df-quickchart\" onclick=\"quickchart('df-4d724553-97b3-4902-9935-d372e5b71b2b')\"\n",
              "            title=\"Suggest charts\"\n",
              "            style=\"display:none;\">\n",
              "\n",
              "<svg xmlns=\"http://www.w3.org/2000/svg\" height=\"24px\"viewBox=\"0 0 24 24\"\n",
              "     width=\"24px\">\n",
              "    <g>\n",
              "        <path d=\"M19 3H5c-1.1 0-2 .9-2 2v14c0 1.1.9 2 2 2h14c1.1 0 2-.9 2-2V5c0-1.1-.9-2-2-2zM9 17H7v-7h2v7zm4 0h-2V7h2v10zm4 0h-2v-4h2v4z\"/>\n",
              "    </g>\n",
              "</svg>\n",
              "  </button>\n",
              "\n",
              "<style>\n",
              "  .colab-df-quickchart {\n",
              "      --bg-color: #E8F0FE;\n",
              "      --fill-color: #1967D2;\n",
              "      --hover-bg-color: #E2EBFA;\n",
              "      --hover-fill-color: #174EA6;\n",
              "      --disabled-fill-color: #AAA;\n",
              "      --disabled-bg-color: #DDD;\n",
              "  }\n",
              "\n",
              "  [theme=dark] .colab-df-quickchart {\n",
              "      --bg-color: #3B4455;\n",
              "      --fill-color: #D2E3FC;\n",
              "      --hover-bg-color: #434B5C;\n",
              "      --hover-fill-color: #FFFFFF;\n",
              "      --disabled-bg-color: #3B4455;\n",
              "      --disabled-fill-color: #666;\n",
              "  }\n",
              "\n",
              "  .colab-df-quickchart {\n",
              "    background-color: var(--bg-color);\n",
              "    border: none;\n",
              "    border-radius: 50%;\n",
              "    cursor: pointer;\n",
              "    display: none;\n",
              "    fill: var(--fill-color);\n",
              "    height: 32px;\n",
              "    padding: 0;\n",
              "    width: 32px;\n",
              "  }\n",
              "\n",
              "  .colab-df-quickchart:hover {\n",
              "    background-color: var(--hover-bg-color);\n",
              "    box-shadow: 0 1px 2px rgba(60, 64, 67, 0.3), 0 1px 3px 1px rgba(60, 64, 67, 0.15);\n",
              "    fill: var(--button-hover-fill-color);\n",
              "  }\n",
              "\n",
              "  .colab-df-quickchart-complete:disabled,\n",
              "  .colab-df-quickchart-complete:disabled:hover {\n",
              "    background-color: var(--disabled-bg-color);\n",
              "    fill: var(--disabled-fill-color);\n",
              "    box-shadow: none;\n",
              "  }\n",
              "\n",
              "  .colab-df-spinner {\n",
              "    border: 2px solid var(--fill-color);\n",
              "    border-color: transparent;\n",
              "    border-bottom-color: var(--fill-color);\n",
              "    animation:\n",
              "      spin 1s steps(1) infinite;\n",
              "  }\n",
              "\n",
              "  @keyframes spin {\n",
              "    0% {\n",
              "      border-color: transparent;\n",
              "      border-bottom-color: var(--fill-color);\n",
              "      border-left-color: var(--fill-color);\n",
              "    }\n",
              "    20% {\n",
              "      border-color: transparent;\n",
              "      border-left-color: var(--fill-color);\n",
              "      border-top-color: var(--fill-color);\n",
              "    }\n",
              "    30% {\n",
              "      border-color: transparent;\n",
              "      border-left-color: var(--fill-color);\n",
              "      border-top-color: var(--fill-color);\n",
              "      border-right-color: var(--fill-color);\n",
              "    }\n",
              "    40% {\n",
              "      border-color: transparent;\n",
              "      border-right-color: var(--fill-color);\n",
              "      border-top-color: var(--fill-color);\n",
              "    }\n",
              "    60% {\n",
              "      border-color: transparent;\n",
              "      border-right-color: var(--fill-color);\n",
              "    }\n",
              "    80% {\n",
              "      border-color: transparent;\n",
              "      border-right-color: var(--fill-color);\n",
              "      border-bottom-color: var(--fill-color);\n",
              "    }\n",
              "    90% {\n",
              "      border-color: transparent;\n",
              "      border-bottom-color: var(--fill-color);\n",
              "    }\n",
              "  }\n",
              "</style>\n",
              "\n",
              "  <script>\n",
              "    async function quickchart(key) {\n",
              "      const quickchartButtonEl =\n",
              "        document.querySelector('#' + key + ' button');\n",
              "      quickchartButtonEl.disabled = true;  // To prevent multiple clicks.\n",
              "      quickchartButtonEl.classList.add('colab-df-spinner');\n",
              "      try {\n",
              "        const charts = await google.colab.kernel.invokeFunction(\n",
              "            'suggestCharts', [key], {});\n",
              "      } catch (error) {\n",
              "        console.error('Error during call to suggestCharts:', error);\n",
              "      }\n",
              "      quickchartButtonEl.classList.remove('colab-df-spinner');\n",
              "      quickchartButtonEl.classList.add('colab-df-quickchart-complete');\n",
              "    }\n",
              "    (() => {\n",
              "      let quickchartButtonEl =\n",
              "        document.querySelector('#df-4d724553-97b3-4902-9935-d372e5b71b2b button');\n",
              "      quickchartButtonEl.style.display =\n",
              "        google.colab.kernel.accessAllowed ? 'block' : 'none';\n",
              "    })();\n",
              "  </script>\n",
              "</div>\n",
              "\n",
              "    </div>\n",
              "  </div>\n"
            ],
            "application/vnd.google.colaboratory.intrinsic+json": {
              "type": "dataframe",
              "variable_name": "df",
              "summary": "{\n  \"name\": \"df\",\n  \"rows\": 29387,\n  \"fields\": [\n    {\n      \"column\": \"TP\",\n      \"properties\": {\n        \"dtype\": \"number\",\n        \"std\": 2399.710067647024,\n        \"min\": 0.3,\n        \"max\": 183000.0,\n        \"num_unique_values\": 2879,\n        \"samples\": [\n          69.5,\n          1872.0,\n          1556.0\n        ],\n        \"semantic_type\": \"\",\n        \"description\": \"\"\n      }\n    },\n    {\n      \"column\": \"AP\",\n      \"properties\": {\n        \"dtype\": \"number\",\n        \"std\": 20.511832998237946,\n        \"min\": 0.0,\n        \"max\": 367.9,\n        \"num_unique_values\": 1010,\n        \"samples\": [\n          74.6,\n          113.2,\n          58.8\n        ],\n        \"semantic_type\": \"\",\n        \"description\": \"\"\n      }\n    },\n    {\n      \"column\": \"AREA\",\n      \"properties\": {\n        \"dtype\": \"number\",\n        \"std\": 55.14622683609297,\n        \"min\": 0.2,\n        \"max\": 3508.28,\n        \"num_unique_values\": 6003,\n        \"samples\": [\n          39.32,\n          35.52,\n          30.79\n        ],\n        \"semantic_type\": \"\",\n        \"description\": \"\"\n      }\n    },\n    {\n      \"column\": \"TYPE\",\n      \"properties\": {\n        \"dtype\": \"number\",\n        \"std\": 1,\n        \"min\": 1,\n        \"max\": 11,\n        \"num_unique_values\": 10,\n        \"samples\": [\n          11,\n          3,\n          2\n        ],\n        \"semantic_type\": \"\",\n        \"description\": \"\"\n      }\n    },\n    {\n      \"column\": \"AGE\",\n      \"properties\": {\n        \"dtype\": \"number\",\n        \"std\": 13,\n        \"min\": 1,\n        \"max\": 111,\n        \"num_unique_values\": 90,\n        \"samples\": [\n          1,\n          36,\n          71\n        ],\n        \"semantic_type\": \"\",\n        \"description\": \"\"\n      }\n    }\n  ]\n}"
            }
          },
          "metadata": {},
          "execution_count": 13
        }
      ]
    },
    {
      "cell_type": "code",
      "source": [
        "dataset=df.values\n",
        "np.random.shuffle(dataset)"
      ],
      "metadata": {
        "id": "yn-RVuDw2k_w"
      },
      "execution_count": null,
      "outputs": []
    },
    {
      "cell_type": "code",
      "source": [
        "y=dataset[:,2]\n",
        "x=dataset[:,3:5]"
      ],
      "metadata": {
        "id": "3ig_D6753CiO"
      },
      "execution_count": null,
      "outputs": []
    },
    {
      "cell_type": "code",
      "source": [
        "mask=np.random.rand(len(df))<0.8\n",
        "df_train=df[mask]\n",
        "df_test=df[~mask]\n",
        "print(\"Train:\", df_train.shape)\n",
        "print(\"Test:\", df_test.shape)\n"
      ],
      "metadata": {
        "colab": {
          "base_uri": "https://localhost:8080/"
        },
        "id": "jcfh8R3U3CoC",
        "outputId": "94bb8f7d-5480-482d-987f-e816e9f8393b"
      },
      "execution_count": null,
      "outputs": [
        {
          "output_type": "stream",
          "name": "stdout",
          "text": [
            "Train: (23540, 5)\n",
            "Test: (5847, 5)\n"
          ]
        }
      ]
    },
    {
      "cell_type": "code",
      "source": [
        "x_train=df_train.iloc[:, 3:5].values\n",
        "y_train=df_train.iloc[:,2].values\n",
        "x_test=df_test.iloc[:, 3:5].values\n",
        "y_test=df_test.iloc[:,2].values"
      ],
      "metadata": {
        "id": "jRAH1Nk_3CsG"
      },
      "execution_count": null,
      "outputs": []
    },
    {
      "cell_type": "code",
      "source": [
        "x_train = x_train.astype(np.float64)\n",
        "x_test = x_test.astype(np.float64)"
      ],
      "metadata": {
        "id": "ZvhBteEK6_hA"
      },
      "execution_count": null,
      "outputs": []
    },
    {
      "cell_type": "code",
      "source": [
        "x_train -= x_train.mean(axis=0)\n",
        "x_train /= x_train.std(axis=0)\n",
        "x_test -= x_test.mean(axis=0)\n",
        "x_test /= x_test.std(axis=0)\n"
      ],
      "metadata": {
        "id": "IFEUxpEV6pug"
      },
      "execution_count": null,
      "outputs": []
    },
    {
      "cell_type": "code",
      "source": [
        "def build_model():\n",
        "  model=Sequential()\n",
        "  model.add(Input(Shape=(x_train.shape[1],)))\n",
        "  model.add(Dense(32,activation=\"relu\"))\n",
        "  model.add(Dense(1))\n",
        "  model.compile(optimizer='adam', loss='mse', metrics=[\"mae\"])\n",
        "  return model"
      ],
      "metadata": {
        "id": "yo4WUi4k6px3"
      },
      "execution_count": null,
      "outputs": []
    },
    {
      "cell_type": "code",
      "source": [
        "k=4\n",
        "nb_val_samples=len(x_train)//k\n",
        "num_epochs=80\n",
        "mse_scores=[]\n",
        "mae_scores=[]"
      ],
      "metadata": {
        "id": "nwIBVLCW6p0P"
      },
      "execution_count": null,
      "outputs": []
    },
    {
      "cell_type": "code",
      "source": [
        "model=Sequential()\n",
        "model.add(Input(shape=(x_train.shape[1],)))\n",
        "model.add(Dense(32,activation=\"relu\"))\n",
        "model.add(Dense(32,activation=\"relu\"))\n",
        "model.add(Dense(32,activation=\"relu\"))\n",
        "model.add(Dense(1, activation=\"linear\"))\n",
        "model.summary()"
      ],
      "metadata": {
        "colab": {
          "base_uri": "https://localhost:8080/",
          "height": 257
        },
        "id": "IY8rr7pg6p2u",
        "outputId": "32506c50-7c5b-4bdd-f98b-a5364e11dbc6"
      },
      "execution_count": null,
      "outputs": [
        {
          "output_type": "display_data",
          "data": {
            "text/plain": [
              "\u001b[1mModel: \"sequential_2\"\u001b[0m\n"
            ],
            "text/html": [
              "<pre style=\"white-space:pre;overflow-x:auto;line-height:normal;font-family:Menlo,'DejaVu Sans Mono',consolas,'Courier New',monospace\"><span style=\"font-weight: bold\">Model: \"sequential_2\"</span>\n",
              "</pre>\n"
            ]
          },
          "metadata": {}
        },
        {
          "output_type": "display_data",
          "data": {
            "text/plain": [
              "┏━━━━━━━━━━━━━━━━━━━━━━━━━━━━━━━━━━━━━━┳━━━━━━━━━━━━━━━━━━━━━━━━━━━━━┳━━━━━━━━━━━━━━━━━┓\n",
              "┃\u001b[1m \u001b[0m\u001b[1mLayer (type)                        \u001b[0m\u001b[1m \u001b[0m┃\u001b[1m \u001b[0m\u001b[1mOutput Shape               \u001b[0m\u001b[1m \u001b[0m┃\u001b[1m \u001b[0m\u001b[1m        Param #\u001b[0m\u001b[1m \u001b[0m┃\n",
              "┡━━━━━━━━━━━━━━━━━━━━━━━━━━━━━━━━━━━━━━╇━━━━━━━━━━━━━━━━━━━━━━━━━━━━━╇━━━━━━━━━━━━━━━━━┩\n",
              "│ dense_7 (\u001b[38;5;33mDense\u001b[0m)                      │ (\u001b[38;5;45mNone\u001b[0m, \u001b[38;5;34m32\u001b[0m)                  │              \u001b[38;5;34m96\u001b[0m │\n",
              "├──────────────────────────────────────┼─────────────────────────────┼─────────────────┤\n",
              "│ dense_8 (\u001b[38;5;33mDense\u001b[0m)                      │ (\u001b[38;5;45mNone\u001b[0m, \u001b[38;5;34m32\u001b[0m)                  │           \u001b[38;5;34m1,056\u001b[0m │\n",
              "├──────────────────────────────────────┼─────────────────────────────┼─────────────────┤\n",
              "│ dense_9 (\u001b[38;5;33mDense\u001b[0m)                      │ (\u001b[38;5;45mNone\u001b[0m, \u001b[38;5;34m32\u001b[0m)                  │           \u001b[38;5;34m1,056\u001b[0m │\n",
              "├──────────────────────────────────────┼─────────────────────────────┼─────────────────┤\n",
              "│ dense_10 (\u001b[38;5;33mDense\u001b[0m)                     │ (\u001b[38;5;45mNone\u001b[0m, \u001b[38;5;34m1\u001b[0m)                   │              \u001b[38;5;34m33\u001b[0m │\n",
              "└──────────────────────────────────────┴─────────────────────────────┴─────────────────┘\n"
            ],
            "text/html": [
              "<pre style=\"white-space:pre;overflow-x:auto;line-height:normal;font-family:Menlo,'DejaVu Sans Mono',consolas,'Courier New',monospace\">┏━━━━━━━━━━━━━━━━━━━━━━━━━━━━━━━━━━━━━━┳━━━━━━━━━━━━━━━━━━━━━━━━━━━━━┳━━━━━━━━━━━━━━━━━┓\n",
              "┃<span style=\"font-weight: bold\"> Layer (type)                         </span>┃<span style=\"font-weight: bold\"> Output Shape                </span>┃<span style=\"font-weight: bold\">         Param # </span>┃\n",
              "┡━━━━━━━━━━━━━━━━━━━━━━━━━━━━━━━━━━━━━━╇━━━━━━━━━━━━━━━━━━━━━━━━━━━━━╇━━━━━━━━━━━━━━━━━┩\n",
              "│ dense_7 (<span style=\"color: #0087ff; text-decoration-color: #0087ff\">Dense</span>)                      │ (<span style=\"color: #00d7ff; text-decoration-color: #00d7ff\">None</span>, <span style=\"color: #00af00; text-decoration-color: #00af00\">32</span>)                  │              <span style=\"color: #00af00; text-decoration-color: #00af00\">96</span> │\n",
              "├──────────────────────────────────────┼─────────────────────────────┼─────────────────┤\n",
              "│ dense_8 (<span style=\"color: #0087ff; text-decoration-color: #0087ff\">Dense</span>)                      │ (<span style=\"color: #00d7ff; text-decoration-color: #00d7ff\">None</span>, <span style=\"color: #00af00; text-decoration-color: #00af00\">32</span>)                  │           <span style=\"color: #00af00; text-decoration-color: #00af00\">1,056</span> │\n",
              "├──────────────────────────────────────┼─────────────────────────────┼─────────────────┤\n",
              "│ dense_9 (<span style=\"color: #0087ff; text-decoration-color: #0087ff\">Dense</span>)                      │ (<span style=\"color: #00d7ff; text-decoration-color: #00d7ff\">None</span>, <span style=\"color: #00af00; text-decoration-color: #00af00\">32</span>)                  │           <span style=\"color: #00af00; text-decoration-color: #00af00\">1,056</span> │\n",
              "├──────────────────────────────────────┼─────────────────────────────┼─────────────────┤\n",
              "│ dense_10 (<span style=\"color: #0087ff; text-decoration-color: #0087ff\">Dense</span>)                     │ (<span style=\"color: #00d7ff; text-decoration-color: #00d7ff\">None</span>, <span style=\"color: #00af00; text-decoration-color: #00af00\">1</span>)                   │              <span style=\"color: #00af00; text-decoration-color: #00af00\">33</span> │\n",
              "└──────────────────────────────────────┴─────────────────────────────┴─────────────────┘\n",
              "</pre>\n"
            ]
          },
          "metadata": {}
        },
        {
          "output_type": "display_data",
          "data": {
            "text/plain": [
              "\u001b[1m Total params: \u001b[0m\u001b[38;5;34m2,241\u001b[0m (8.75 KB)\n"
            ],
            "text/html": [
              "<pre style=\"white-space:pre;overflow-x:auto;line-height:normal;font-family:Menlo,'DejaVu Sans Mono',consolas,'Courier New',monospace\"><span style=\"font-weight: bold\"> Total params: </span><span style=\"color: #00af00; text-decoration-color: #00af00\">2,241</span> (8.75 KB)\n",
              "</pre>\n"
            ]
          },
          "metadata": {}
        },
        {
          "output_type": "display_data",
          "data": {
            "text/plain": [
              "\u001b[1m Trainable params: \u001b[0m\u001b[38;5;34m2,241\u001b[0m (8.75 KB)\n"
            ],
            "text/html": [
              "<pre style=\"white-space:pre;overflow-x:auto;line-height:normal;font-family:Menlo,'DejaVu Sans Mono',consolas,'Courier New',monospace\"><span style=\"font-weight: bold\"> Trainable params: </span><span style=\"color: #00af00; text-decoration-color: #00af00\">2,241</span> (8.75 KB)\n",
              "</pre>\n"
            ]
          },
          "metadata": {}
        },
        {
          "output_type": "display_data",
          "data": {
            "text/plain": [
              "\u001b[1m Non-trainable params: \u001b[0m\u001b[38;5;34m0\u001b[0m (0.00 B)\n"
            ],
            "text/html": [
              "<pre style=\"white-space:pre;overflow-x:auto;line-height:normal;font-family:Menlo,'DejaVu Sans Mono',consolas,'Courier New',monospace\"><span style=\"font-weight: bold\"> Non-trainable params: </span><span style=\"color: #00af00; text-decoration-color: #00af00\">0</span> (0.00 B)\n",
              "</pre>\n"
            ]
          },
          "metadata": {}
        }
      ]
    },
    {
      "cell_type": "code",
      "source": [
        "model.compile(optimizer='adam', loss='mse', metrics=[\"root_mean_squared_error\"])"
      ],
      "metadata": {
        "id": "cFKTJWfp3Cvv"
      },
      "execution_count": null,
      "outputs": []
    },
    {
      "cell_type": "code",
      "source": [
        "history=model.fit(x_train, y_train, epochs=100, batch_size=128, verbose=2, validation_split=0.2)"
      ],
      "metadata": {
        "colab": {
          "base_uri": "https://localhost:8080/"
        },
        "id": "IxxqIVnE9YRP",
        "outputId": "b0e9e8c2-ee36-49a6-82e4-352e5663da56"
      },
      "execution_count": null,
      "outputs": [
        {
          "output_type": "stream",
          "name": "stdout",
          "text": [
            "Epoch 1/100\n",
            "148/148 - 2s - 11ms/step - loss: 4031.1980 - root_mean_squared_error: 63.4917 - val_loss: 2981.9568 - val_root_mean_squared_error: 54.6073\n",
            "Epoch 2/100\n",
            "148/148 - 0s - 2ms/step - loss: 3413.2998 - root_mean_squared_error: 58.4235 - val_loss: 2966.6589 - val_root_mean_squared_error: 54.4670\n",
            "Epoch 3/100\n",
            "148/148 - 0s - 2ms/step - loss: 3396.3853 - root_mean_squared_error: 58.2785 - val_loss: 2943.0671 - val_root_mean_squared_error: 54.2500\n",
            "Epoch 4/100\n",
            "148/148 - 1s - 4ms/step - loss: 3397.5791 - root_mean_squared_error: 58.2888 - val_loss: 2937.8174 - val_root_mean_squared_error: 54.2016\n",
            "Epoch 5/100\n",
            "148/148 - 0s - 2ms/step - loss: 3383.2148 - root_mean_squared_error: 58.1654 - val_loss: 2936.7407 - val_root_mean_squared_error: 54.1917\n",
            "Epoch 6/100\n",
            "148/148 - 1s - 4ms/step - loss: 3381.6204 - root_mean_squared_error: 58.1517 - val_loss: 2935.2061 - val_root_mean_squared_error: 54.1775\n",
            "Epoch 7/100\n",
            "148/148 - 0s - 2ms/step - loss: 3382.2153 - root_mean_squared_error: 58.1568 - val_loss: 2941.5215 - val_root_mean_squared_error: 54.2358\n",
            "Epoch 8/100\n",
            "148/148 - 1s - 4ms/step - loss: 3377.1399 - root_mean_squared_error: 58.1132 - val_loss: 2928.1763 - val_root_mean_squared_error: 54.1126\n",
            "Epoch 9/100\n",
            "148/148 - 1s - 4ms/step - loss: 3377.6680 - root_mean_squared_error: 58.1177 - val_loss: 2920.7036 - val_root_mean_squared_error: 54.0435\n",
            "Epoch 10/100\n",
            "148/148 - 0s - 2ms/step - loss: 3374.2451 - root_mean_squared_error: 58.0883 - val_loss: 2934.9597 - val_root_mean_squared_error: 54.1753\n",
            "Epoch 11/100\n",
            "148/148 - 1s - 4ms/step - loss: 3376.3208 - root_mean_squared_error: 58.1061 - val_loss: 2928.7085 - val_root_mean_squared_error: 54.1175\n",
            "Epoch 12/100\n",
            "148/148 - 1s - 4ms/step - loss: 3375.7671 - root_mean_squared_error: 58.1014 - val_loss: 2930.6367 - val_root_mean_squared_error: 54.1354\n",
            "Epoch 13/100\n",
            "148/148 - 0s - 2ms/step - loss: 3370.9131 - root_mean_squared_error: 58.0596 - val_loss: 2925.3616 - val_root_mean_squared_error: 54.0866\n",
            "Epoch 14/100\n",
            "148/148 - 1s - 4ms/step - loss: 3367.4241 - root_mean_squared_error: 58.0295 - val_loss: 2939.0183 - val_root_mean_squared_error: 54.2127\n",
            "Epoch 15/100\n",
            "148/148 - 1s - 5ms/step - loss: 3368.2317 - root_mean_squared_error: 58.0365 - val_loss: 2928.7314 - val_root_mean_squared_error: 54.1178\n",
            "Epoch 16/100\n",
            "148/148 - 1s - 5ms/step - loss: 3366.3108 - root_mean_squared_error: 58.0199 - val_loss: 2918.9011 - val_root_mean_squared_error: 54.0269\n",
            "Epoch 17/100\n",
            "148/148 - 1s - 4ms/step - loss: 3366.8823 - root_mean_squared_error: 58.0248 - val_loss: 2930.9275 - val_root_mean_squared_error: 54.1380\n",
            "Epoch 18/100\n",
            "148/148 - 1s - 4ms/step - loss: 3366.1345 - root_mean_squared_error: 58.0184 - val_loss: 2934.5842 - val_root_mean_squared_error: 54.1718\n",
            "Epoch 19/100\n",
            "148/148 - 0s - 3ms/step - loss: 3363.9631 - root_mean_squared_error: 57.9997 - val_loss: 2919.3130 - val_root_mean_squared_error: 54.0307\n",
            "Epoch 20/100\n",
            "148/148 - 1s - 5ms/step - loss: 3363.1816 - root_mean_squared_error: 57.9929 - val_loss: 2925.7644 - val_root_mean_squared_error: 54.0903\n",
            "Epoch 21/100\n",
            "148/148 - 1s - 4ms/step - loss: 3359.8728 - root_mean_squared_error: 57.9644 - val_loss: 2910.6951 - val_root_mean_squared_error: 53.9509\n",
            "Epoch 22/100\n",
            "148/148 - 0s - 2ms/step - loss: 3361.6021 - root_mean_squared_error: 57.9793 - val_loss: 2909.1877 - val_root_mean_squared_error: 53.9369\n",
            "Epoch 23/100\n",
            "148/148 - 0s - 2ms/step - loss: 3359.6108 - root_mean_squared_error: 57.9622 - val_loss: 2914.3223 - val_root_mean_squared_error: 53.9845\n",
            "Epoch 24/100\n",
            "148/148 - 0s - 2ms/step - loss: 3359.7529 - root_mean_squared_error: 57.9634 - val_loss: 2936.6772 - val_root_mean_squared_error: 54.1911\n",
            "Epoch 25/100\n",
            "148/148 - 0s - 2ms/step - loss: 3355.2920 - root_mean_squared_error: 57.9249 - val_loss: 2913.8796 - val_root_mean_squared_error: 53.9804\n",
            "Epoch 26/100\n",
            "148/148 - 1s - 4ms/step - loss: 3355.4424 - root_mean_squared_error: 57.9262 - val_loss: 2908.9060 - val_root_mean_squared_error: 53.9343\n",
            "Epoch 27/100\n",
            "148/148 - 0s - 2ms/step - loss: 3354.0132 - root_mean_squared_error: 57.9138 - val_loss: 2913.2588 - val_root_mean_squared_error: 53.9746\n",
            "Epoch 28/100\n",
            "148/148 - 1s - 4ms/step - loss: 3351.7949 - root_mean_squared_error: 57.8947 - val_loss: 2925.8860 - val_root_mean_squared_error: 54.0915\n",
            "Epoch 29/100\n",
            "148/148 - 0s - 2ms/step - loss: 3347.9429 - root_mean_squared_error: 57.8614 - val_loss: 2920.0601 - val_root_mean_squared_error: 54.0376\n",
            "Epoch 30/100\n",
            "148/148 - 1s - 4ms/step - loss: 3346.1760 - root_mean_squared_error: 57.8461 - val_loss: 2900.5569 - val_root_mean_squared_error: 53.8568\n",
            "Epoch 31/100\n",
            "148/148 - 0s - 2ms/step - loss: 3346.1338 - root_mean_squared_error: 57.8458 - val_loss: 2898.2219 - val_root_mean_squared_error: 53.8351\n",
            "Epoch 32/100\n",
            "148/148 - 1s - 4ms/step - loss: 3341.5835 - root_mean_squared_error: 57.8064 - val_loss: 2911.7998 - val_root_mean_squared_error: 53.9611\n",
            "Epoch 33/100\n",
            "148/148 - 0s - 2ms/step - loss: 3341.5317 - root_mean_squared_error: 57.8060 - val_loss: 2901.0945 - val_root_mean_squared_error: 53.8618\n",
            "Epoch 34/100\n",
            "148/148 - 0s - 2ms/step - loss: 3339.9465 - root_mean_squared_error: 57.7923 - val_loss: 2890.4219 - val_root_mean_squared_error: 53.7626\n",
            "Epoch 35/100\n",
            "148/148 - 0s - 2ms/step - loss: 3335.2246 - root_mean_squared_error: 57.7514 - val_loss: 2903.6155 - val_root_mean_squared_error: 53.8852\n",
            "Epoch 36/100\n",
            "148/148 - 0s - 2ms/step - loss: 3339.6008 - root_mean_squared_error: 57.7893 - val_loss: 2905.1838 - val_root_mean_squared_error: 53.8998\n",
            "Epoch 37/100\n",
            "148/148 - 0s - 2ms/step - loss: 3331.9685 - root_mean_squared_error: 57.7232 - val_loss: 2883.9214 - val_root_mean_squared_error: 53.7022\n",
            "Epoch 38/100\n",
            "148/148 - 0s - 2ms/step - loss: 3328.5723 - root_mean_squared_error: 57.6938 - val_loss: 2879.4509 - val_root_mean_squared_error: 53.6605\n",
            "Epoch 39/100\n",
            "148/148 - 0s - 2ms/step - loss: 3327.4109 - root_mean_squared_error: 57.6837 - val_loss: 2881.7363 - val_root_mean_squared_error: 53.6818\n",
            "Epoch 40/100\n",
            "148/148 - 0s - 2ms/step - loss: 3327.9927 - root_mean_squared_error: 57.6888 - val_loss: 2907.1743 - val_root_mean_squared_error: 53.9182\n",
            "Epoch 41/100\n",
            "148/148 - 0s - 2ms/step - loss: 3324.8445 - root_mean_squared_error: 57.6615 - val_loss: 2877.3423 - val_root_mean_squared_error: 53.6409\n",
            "Epoch 42/100\n",
            "148/148 - 1s - 4ms/step - loss: 3323.7891 - root_mean_squared_error: 57.6523 - val_loss: 2881.3318 - val_root_mean_squared_error: 53.6780\n",
            "Epoch 43/100\n",
            "148/148 - 1s - 4ms/step - loss: 3320.6953 - root_mean_squared_error: 57.6255 - val_loss: 2880.6157 - val_root_mean_squared_error: 53.6714\n",
            "Epoch 44/100\n",
            "148/148 - 1s - 4ms/step - loss: 3316.1982 - root_mean_squared_error: 57.5864 - val_loss: 2889.0164 - val_root_mean_squared_error: 53.7496\n",
            "Epoch 45/100\n",
            "148/148 - 1s - 4ms/step - loss: 3313.6758 - root_mean_squared_error: 57.5645 - val_loss: 2886.1902 - val_root_mean_squared_error: 53.7233\n",
            "Epoch 46/100\n",
            "148/148 - 0s - 3ms/step - loss: 3312.9080 - root_mean_squared_error: 57.5579 - val_loss: 2888.0872 - val_root_mean_squared_error: 53.7409\n",
            "Epoch 47/100\n",
            "148/148 - 0s - 3ms/step - loss: 3307.9485 - root_mean_squared_error: 57.5148 - val_loss: 2884.8293 - val_root_mean_squared_error: 53.7106\n",
            "Epoch 48/100\n",
            "148/148 - 1s - 5ms/step - loss: 3310.0803 - root_mean_squared_error: 57.5333 - val_loss: 2879.7754 - val_root_mean_squared_error: 53.6635\n",
            "Epoch 49/100\n",
            "148/148 - 0s - 3ms/step - loss: 3303.4568 - root_mean_squared_error: 57.4757 - val_loss: 2879.6045 - val_root_mean_squared_error: 53.6619\n",
            "Epoch 50/100\n",
            "148/148 - 1s - 4ms/step - loss: 3307.4226 - root_mean_squared_error: 57.5102 - val_loss: 2875.5684 - val_root_mean_squared_error: 53.6243\n",
            "Epoch 51/100\n",
            "148/148 - 1s - 4ms/step - loss: 3300.0229 - root_mean_squared_error: 57.4458 - val_loss: 2881.1558 - val_root_mean_squared_error: 53.6764\n",
            "Epoch 52/100\n",
            "148/148 - 0s - 3ms/step - loss: 3298.6741 - root_mean_squared_error: 57.4341 - val_loss: 2880.5249 - val_root_mean_squared_error: 53.6705\n",
            "Epoch 53/100\n",
            "148/148 - 1s - 4ms/step - loss: 3296.8394 - root_mean_squared_error: 57.4181 - val_loss: 2886.2871 - val_root_mean_squared_error: 53.7242\n",
            "Epoch 54/100\n",
            "148/148 - 0s - 2ms/step - loss: 3292.7468 - root_mean_squared_error: 57.3825 - val_loss: 2868.0767 - val_root_mean_squared_error: 53.5544\n",
            "Epoch 55/100\n",
            "148/148 - 0s - 2ms/step - loss: 3292.5696 - root_mean_squared_error: 57.3809 - val_loss: 2858.4290 - val_root_mean_squared_error: 53.4643\n",
            "Epoch 56/100\n",
            "148/148 - 1s - 4ms/step - loss: 3287.5764 - root_mean_squared_error: 57.3374 - val_loss: 2880.6780 - val_root_mean_squared_error: 53.6719\n",
            "Epoch 57/100\n",
            "148/148 - 1s - 4ms/step - loss: 3287.6343 - root_mean_squared_error: 57.3379 - val_loss: 2858.5728 - val_root_mean_squared_error: 53.4656\n",
            "Epoch 58/100\n",
            "148/148 - 1s - 4ms/step - loss: 3287.2263 - root_mean_squared_error: 57.3343 - val_loss: 2869.4075 - val_root_mean_squared_error: 53.5668\n",
            "Epoch 59/100\n",
            "148/148 - 0s - 2ms/step - loss: 3280.8179 - root_mean_squared_error: 57.2784 - val_loss: 2866.6777 - val_root_mean_squared_error: 53.5414\n",
            "Epoch 60/100\n",
            "148/148 - 0s - 2ms/step - loss: 3278.0813 - root_mean_squared_error: 57.2545 - val_loss: 2854.4370 - val_root_mean_squared_error: 53.4269\n",
            "Epoch 61/100\n",
            "148/148 - 0s - 2ms/step - loss: 3276.8611 - root_mean_squared_error: 57.2439 - val_loss: 2854.9570 - val_root_mean_squared_error: 53.4318\n",
            "Epoch 62/100\n",
            "148/148 - 0s - 2ms/step - loss: 3272.7468 - root_mean_squared_error: 57.2079 - val_loss: 2854.0142 - val_root_mean_squared_error: 53.4230\n",
            "Epoch 63/100\n",
            "148/148 - 0s - 2ms/step - loss: 3271.7424 - root_mean_squared_error: 57.1991 - val_loss: 2861.8757 - val_root_mean_squared_error: 53.4965\n",
            "Epoch 64/100\n",
            "148/148 - 0s - 2ms/step - loss: 3290.2861 - root_mean_squared_error: 57.3610 - val_loss: 2872.3840 - val_root_mean_squared_error: 53.5946\n",
            "Epoch 65/100\n",
            "148/148 - 0s - 2ms/step - loss: 3268.1562 - root_mean_squared_error: 57.1678 - val_loss: 2863.4370 - val_root_mean_squared_error: 53.5111\n",
            "Epoch 66/100\n",
            "148/148 - 1s - 4ms/step - loss: 3265.3784 - root_mean_squared_error: 57.1435 - val_loss: 2862.7593 - val_root_mean_squared_error: 53.5048\n",
            "Epoch 67/100\n",
            "148/148 - 0s - 2ms/step - loss: 3264.6707 - root_mean_squared_error: 57.1373 - val_loss: 2859.6963 - val_root_mean_squared_error: 53.4761\n",
            "Epoch 68/100\n",
            "148/148 - 0s - 2ms/step - loss: 3259.9646 - root_mean_squared_error: 57.0961 - val_loss: 2862.2358 - val_root_mean_squared_error: 53.4999\n",
            "Epoch 69/100\n",
            "148/148 - 1s - 4ms/step - loss: 3267.0466 - root_mean_squared_error: 57.1581 - val_loss: 2861.0698 - val_root_mean_squared_error: 53.4890\n",
            "Epoch 70/100\n",
            "148/148 - 1s - 4ms/step - loss: 3256.7532 - root_mean_squared_error: 57.0680 - val_loss: 2866.1956 - val_root_mean_squared_error: 53.5369\n",
            "Epoch 71/100\n",
            "148/148 - 1s - 4ms/step - loss: 3256.2925 - root_mean_squared_error: 57.0639 - val_loss: 2854.2363 - val_root_mean_squared_error: 53.4251\n",
            "Epoch 72/100\n",
            "148/148 - 1s - 4ms/step - loss: 3251.3291 - root_mean_squared_error: 57.0204 - val_loss: 2843.4321 - val_root_mean_squared_error: 53.3238\n",
            "Epoch 73/100\n",
            "148/148 - 0s - 2ms/step - loss: 3256.5005 - root_mean_squared_error: 57.0658 - val_loss: 2853.8267 - val_root_mean_squared_error: 53.4212\n",
            "Epoch 74/100\n",
            "148/148 - 1s - 4ms/step - loss: 3248.9553 - root_mean_squared_error: 56.9996 - val_loss: 2857.2019 - val_root_mean_squared_error: 53.4528\n",
            "Epoch 75/100\n",
            "148/148 - 0s - 2ms/step - loss: 3248.0530 - root_mean_squared_error: 56.9917 - val_loss: 2856.7070 - val_root_mean_squared_error: 53.4482\n",
            "Epoch 76/100\n",
            "148/148 - 1s - 6ms/step - loss: 3244.7231 - root_mean_squared_error: 56.9625 - val_loss: 2855.7014 - val_root_mean_squared_error: 53.4388\n",
            "Epoch 77/100\n",
            "148/148 - 1s - 4ms/step - loss: 3251.0562 - root_mean_squared_error: 57.0180 - val_loss: 2851.0635 - val_root_mean_squared_error: 53.3954\n",
            "Epoch 78/100\n",
            "148/148 - 1s - 4ms/step - loss: 3237.8857 - root_mean_squared_error: 56.9024 - val_loss: 2872.5376 - val_root_mean_squared_error: 53.5961\n",
            "Epoch 79/100\n",
            "148/148 - 1s - 3ms/step - loss: 3239.5215 - root_mean_squared_error: 56.9168 - val_loss: 2850.9709 - val_root_mean_squared_error: 53.3945\n",
            "Epoch 80/100\n",
            "148/148 - 1s - 4ms/step - loss: 3243.3831 - root_mean_squared_error: 56.9507 - val_loss: 2854.2998 - val_root_mean_squared_error: 53.4256\n",
            "Epoch 81/100\n",
            "148/148 - 1s - 5ms/step - loss: 3241.0491 - root_mean_squared_error: 56.9302 - val_loss: 2864.5605 - val_root_mean_squared_error: 53.5216\n",
            "Epoch 82/100\n",
            "148/148 - 0s - 2ms/step - loss: 3236.4355 - root_mean_squared_error: 56.8897 - val_loss: 2847.4441 - val_root_mean_squared_error: 53.3614\n",
            "Epoch 83/100\n",
            "148/148 - 0s - 2ms/step - loss: 3234.4109 - root_mean_squared_error: 56.8719 - val_loss: 2855.9539 - val_root_mean_squared_error: 53.4411\n",
            "Epoch 84/100\n",
            "148/148 - 0s - 2ms/step - loss: 3239.2815 - root_mean_squared_error: 56.9147 - val_loss: 2853.5774 - val_root_mean_squared_error: 53.4189\n",
            "Epoch 85/100\n",
            "148/148 - 0s - 2ms/step - loss: 3226.5679 - root_mean_squared_error: 56.8029 - val_loss: 2859.6101 - val_root_mean_squared_error: 53.4753\n",
            "Epoch 86/100\n",
            "148/148 - 1s - 4ms/step - loss: 3225.9775 - root_mean_squared_error: 56.7977 - val_loss: 2857.7283 - val_root_mean_squared_error: 53.4577\n",
            "Epoch 87/100\n",
            "148/148 - 1s - 4ms/step - loss: 3223.9280 - root_mean_squared_error: 56.7796 - val_loss: 2834.1013 - val_root_mean_squared_error: 53.2363\n",
            "Epoch 88/100\n",
            "148/148 - 1s - 4ms/step - loss: 3234.8928 - root_mean_squared_error: 56.8761 - val_loss: 2842.1204 - val_root_mean_squared_error: 53.3115\n",
            "Epoch 89/100\n",
            "148/148 - 1s - 4ms/step - loss: 3223.4387 - root_mean_squared_error: 56.7753 - val_loss: 2847.3123 - val_root_mean_squared_error: 53.3602\n",
            "Epoch 90/100\n",
            "148/148 - 0s - 2ms/step - loss: 3221.6292 - root_mean_squared_error: 56.7594 - val_loss: 2845.6311 - val_root_mean_squared_error: 53.3445\n",
            "Epoch 91/100\n",
            "148/148 - 1s - 4ms/step - loss: 3218.1240 - root_mean_squared_error: 56.7285 - val_loss: 2844.0940 - val_root_mean_squared_error: 53.3300\n",
            "Epoch 92/100\n",
            "148/148 - 0s - 2ms/step - loss: 3221.2017 - root_mean_squared_error: 56.7556 - val_loss: 2845.6052 - val_root_mean_squared_error: 53.3442\n",
            "Epoch 93/100\n",
            "148/148 - 0s - 2ms/step - loss: 3216.8835 - root_mean_squared_error: 56.7176 - val_loss: 2854.3069 - val_root_mean_squared_error: 53.4257\n",
            "Epoch 94/100\n",
            "148/148 - 0s - 2ms/step - loss: 3217.1829 - root_mean_squared_error: 56.7202 - val_loss: 2860.3821 - val_root_mean_squared_error: 53.4825\n",
            "Epoch 95/100\n",
            "148/148 - 1s - 4ms/step - loss: 3212.3645 - root_mean_squared_error: 56.6777 - val_loss: 2842.3225 - val_root_mean_squared_error: 53.3134\n",
            "Epoch 96/100\n",
            "148/148 - 1s - 4ms/step - loss: 3212.7253 - root_mean_squared_error: 56.6809 - val_loss: 2847.0564 - val_root_mean_squared_error: 53.3578\n",
            "Epoch 97/100\n",
            "148/148 - 0s - 2ms/step - loss: 3212.8167 - root_mean_squared_error: 56.6817 - val_loss: 2842.8552 - val_root_mean_squared_error: 53.3184\n",
            "Epoch 98/100\n",
            "148/148 - 0s - 2ms/step - loss: 3214.2483 - root_mean_squared_error: 56.6943 - val_loss: 2850.6399 - val_root_mean_squared_error: 53.3914\n",
            "Epoch 99/100\n",
            "148/148 - 0s - 2ms/step - loss: 3207.0466 - root_mean_squared_error: 56.6308 - val_loss: 2834.9219 - val_root_mean_squared_error: 53.2440\n",
            "Epoch 100/100\n",
            "148/148 - 0s - 2ms/step - loss: 3202.8843 - root_mean_squared_error: 56.5940 - val_loss: 2846.0251 - val_root_mean_squared_error: 53.3482\n"
          ]
        }
      ]
    },
    {
      "cell_type": "code",
      "source": [
        "loss, rmse=model.evaluate(x_test, y_test, verbose=0)\n",
        "print(\"測試資料集的 RMSE = \", rmse)"
      ],
      "metadata": {
        "colab": {
          "base_uri": "https://localhost:8080/"
        },
        "id": "sAS1Q4PN9YYw",
        "outputId": "3b50e487-612f-45f7-85a3-542a3432aa15"
      },
      "execution_count": null,
      "outputs": [
        {
          "output_type": "stream",
          "name": "stdout",
          "text": [
            "測試資料集的 RMSE =  34.17060470581055\n"
          ]
        }
      ]
    },
    {
      "cell_type": "code",
      "source": [
        "print(\"Saving model to disk...\")\n",
        "model.save(\"NEWTAIPEICITY.keras\")\n"
      ],
      "metadata": {
        "colab": {
          "base_uri": "https://localhost:8080/"
        },
        "id": "M4geWMwh_3XP",
        "outputId": "765371cf-c956-4cf9-aaf9-47d246b1eb3d"
      },
      "execution_count": null,
      "outputs": [
        {
          "output_type": "stream",
          "name": "stdout",
          "text": [
            "Saving model to disk...\n"
          ]
        }
      ]
    },
    {
      "cell_type": "code",
      "source": [
        "price=model.predict(x_test, verbose=0)\n",
        "print(\"真實價格:\", y_test[70])\n",
        "print(\"模型預測價格\", price[0][0])\n"
      ],
      "metadata": {
        "colab": {
          "base_uri": "https://localhost:8080/"
        },
        "id": "FP-tuc_C9YcR",
        "outputId": "200e74e0-1150-484f-e616-0e1e7296d99a"
      },
      "execution_count": null,
      "outputs": [
        {
          "output_type": "stream",
          "name": "stdout",
          "text": [
            "真實價格: 33.39\n",
            "模型預測價格 35.380775\n"
          ]
        }
      ]
    },
    {
      "cell_type": "code",
      "source": [],
      "metadata": {
        "id": "WP2kH-oM9Ye2"
      },
      "execution_count": null,
      "outputs": []
    }
  ]
}