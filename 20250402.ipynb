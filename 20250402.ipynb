{
  "nbformat": 4,
  "nbformat_minor": 0,
  "metadata": {
    "colab": {
      "provenance": [],
      "authorship_tag": "ABX9TyOcMwG+LneShPDw7rwaWHwz",
      "include_colab_link": true
    },
    "kernelspec": {
      "name": "python3",
      "display_name": "Python 3"
    },
    "language_info": {
      "name": "python"
    }
  },
  "cells": [
    {
      "cell_type": "markdown",
      "metadata": {
        "id": "view-in-github",
        "colab_type": "text"
      },
      "source": [
        "<a href=\"https://colab.research.google.com/github/luwc/students/blob/master/20250402.ipynb\" target=\"_parent\"><img src=\"https://colab.research.google.com/assets/colab-badge.svg\" alt=\"Open In Colab\"/></a>"
      ]
    },
    {
      "cell_type": "code",
      "execution_count": null,
      "metadata": {
        "id": "n29l62uwyTTy"
      },
      "outputs": [],
      "source": [
        "import numpy as np\n",
        "import pandas as pd\n",
        "from keras import Sequential\n",
        "from keras.layers import Input, Dense\n"
      ]
    },
    {
      "cell_type": "code",
      "source": [
        "import os"
      ],
      "metadata": {
        "id": "2h8FgLCIyx5M"
      },
      "execution_count": null,
      "outputs": []
    },
    {
      "cell_type": "code",
      "source": [],
      "metadata": {
        "id": "LH0UAtgUyyBA"
      },
      "execution_count": null,
      "outputs": []
    },
    {
      "cell_type": "code",
      "source": [
        "import os\n",
        "os.environ[\"KERAS_BACKEND\"] = \"tensorflow\"\n"
      ],
      "metadata": {
        "id": "EYB_qtoqCkP3"
      },
      "execution_count": null,
      "outputs": []
    },
    {
      "cell_type": "code",
      "source": [
        "from google.colab import drive\n",
        "drive.mount('/content/drive')"
      ],
      "metadata": {
        "colab": {
          "base_uri": "https://localhost:8080/"
        },
        "id": "VKk8-Yhf0NGb",
        "outputId": "79c49918-94d2-4cb8-8110-2c74fd48a648"
      },
      "execution_count": null,
      "outputs": [
        {
          "output_type": "stream",
          "name": "stdout",
          "text": [
            "Mounted at /content/drive\n"
          ]
        }
      ]
    },
    {
      "cell_type": "code",
      "source": [
        "os.chdir('/content/drive/My Drive/AA')\n"
      ],
      "metadata": {
        "id": "2VGCBw940NSZ"
      },
      "execution_count": null,
      "outputs": []
    },
    {
      "cell_type": "code",
      "source": [],
      "metadata": {
        "id": "I4IlS8462k0u"
      },
      "execution_count": null,
      "outputs": []
    },
    {
      "cell_type": "code",
      "source": [
        "os.listdir()"
      ],
      "metadata": {
        "colab": {
          "base_uri": "https://localhost:8080/"
        },
        "id": "DSp-pCYY2k5f",
        "outputId": "9d85290a-934e-46c5-d872-a289d479ceda"
      },
      "execution_count": null,
      "outputs": [
        {
          "output_type": "execute_result",
          "data": {
            "text/plain": [
              "['iris.csv',\n",
              " 'boston_housing.csv',\n",
              " 'diabetes.csv',\n",
              " 'train.csv',\n",
              " 'eval.csv',\n",
              " '新北房屋資料+6指標.xlsx',\n",
              " 'houseprice.csv',\n",
              " 'houseprice1.csv',\n",
              " 'NEWTAIPEICITY.keras']"
            ]
          },
          "metadata": {},
          "execution_count": 6
        }
      ]
    },
    {
      "cell_type": "code",
      "source": [],
      "metadata": {
        "id": "xtH6art62k8u"
      },
      "execution_count": null,
      "outputs": []
    },
    {
      "cell_type": "code",
      "source": [
        "df=pd.read_csv('/content/drive/My Drive/AA/houseprice1.csv')\n",
        "df.head()"
      ],
      "metadata": {
        "colab": {
          "base_uri": "https://localhost:8080/",
          "height": 206
        },
        "id": "2-PnWXrYkQKS",
        "outputId": "3e807fd2-fc1b-45ad-cc55-4a38fcf66bea"
      },
      "execution_count": null,
      "outputs": [
        {
          "output_type": "execute_result",
          "data": {
            "text/plain": [
              "        DATE     TP    AP   AREA  TYPE  AGE  BOOM        STOCK  UNEMP  \\\n",
              "0  101/08/13  190.0   4.7  40.08     1   22    15  7397.025879    4.4   \n",
              "1  101/08/17  220.0   7.5  29.47     1   31    15  7397.025879    4.4   \n",
              "2  101/08/20  285.0   8.7  32.94     1   19    15  7397.025879    4.4   \n",
              "3  101/08/27  200.0  10.5  19.09     3   15    15  7397.025879    4.4   \n",
              "4  101/08/28  460.0  21.2  21.69     6   31    15  7397.025879    4.4   \n",
              "\n",
              "   EXCHANGE  \n",
              "0    29.988  \n",
              "1    29.988  \n",
              "2    29.988  \n",
              "3    29.988  \n",
              "4    29.988  "
            ],
            "text/html": [
              "\n",
              "  <div id=\"df-776ee8cb-be26-43fc-8c11-1cb9e2a86f66\" class=\"colab-df-container\">\n",
              "    <div>\n",
              "<style scoped>\n",
              "    .dataframe tbody tr th:only-of-type {\n",
              "        vertical-align: middle;\n",
              "    }\n",
              "\n",
              "    .dataframe tbody tr th {\n",
              "        vertical-align: top;\n",
              "    }\n",
              "\n",
              "    .dataframe thead th {\n",
              "        text-align: right;\n",
              "    }\n",
              "</style>\n",
              "<table border=\"1\" class=\"dataframe\">\n",
              "  <thead>\n",
              "    <tr style=\"text-align: right;\">\n",
              "      <th></th>\n",
              "      <th>DATE</th>\n",
              "      <th>TP</th>\n",
              "      <th>AP</th>\n",
              "      <th>AREA</th>\n",
              "      <th>TYPE</th>\n",
              "      <th>AGE</th>\n",
              "      <th>BOOM</th>\n",
              "      <th>STOCK</th>\n",
              "      <th>UNEMP</th>\n",
              "      <th>EXCHANGE</th>\n",
              "    </tr>\n",
              "  </thead>\n",
              "  <tbody>\n",
              "    <tr>\n",
              "      <th>0</th>\n",
              "      <td>101/08/13</td>\n",
              "      <td>190.0</td>\n",
              "      <td>4.7</td>\n",
              "      <td>40.08</td>\n",
              "      <td>1</td>\n",
              "      <td>22</td>\n",
              "      <td>15</td>\n",
              "      <td>7397.025879</td>\n",
              "      <td>4.4</td>\n",
              "      <td>29.988</td>\n",
              "    </tr>\n",
              "    <tr>\n",
              "      <th>1</th>\n",
              "      <td>101/08/17</td>\n",
              "      <td>220.0</td>\n",
              "      <td>7.5</td>\n",
              "      <td>29.47</td>\n",
              "      <td>1</td>\n",
              "      <td>31</td>\n",
              "      <td>15</td>\n",
              "      <td>7397.025879</td>\n",
              "      <td>4.4</td>\n",
              "      <td>29.988</td>\n",
              "    </tr>\n",
              "    <tr>\n",
              "      <th>2</th>\n",
              "      <td>101/08/20</td>\n",
              "      <td>285.0</td>\n",
              "      <td>8.7</td>\n",
              "      <td>32.94</td>\n",
              "      <td>1</td>\n",
              "      <td>19</td>\n",
              "      <td>15</td>\n",
              "      <td>7397.025879</td>\n",
              "      <td>4.4</td>\n",
              "      <td>29.988</td>\n",
              "    </tr>\n",
              "    <tr>\n",
              "      <th>3</th>\n",
              "      <td>101/08/27</td>\n",
              "      <td>200.0</td>\n",
              "      <td>10.5</td>\n",
              "      <td>19.09</td>\n",
              "      <td>3</td>\n",
              "      <td>15</td>\n",
              "      <td>15</td>\n",
              "      <td>7397.025879</td>\n",
              "      <td>4.4</td>\n",
              "      <td>29.988</td>\n",
              "    </tr>\n",
              "    <tr>\n",
              "      <th>4</th>\n",
              "      <td>101/08/28</td>\n",
              "      <td>460.0</td>\n",
              "      <td>21.2</td>\n",
              "      <td>21.69</td>\n",
              "      <td>6</td>\n",
              "      <td>31</td>\n",
              "      <td>15</td>\n",
              "      <td>7397.025879</td>\n",
              "      <td>4.4</td>\n",
              "      <td>29.988</td>\n",
              "    </tr>\n",
              "  </tbody>\n",
              "</table>\n",
              "</div>\n",
              "    <div class=\"colab-df-buttons\">\n",
              "\n",
              "  <div class=\"colab-df-container\">\n",
              "    <button class=\"colab-df-convert\" onclick=\"convertToInteractive('df-776ee8cb-be26-43fc-8c11-1cb9e2a86f66')\"\n",
              "            title=\"Convert this dataframe to an interactive table.\"\n",
              "            style=\"display:none;\">\n",
              "\n",
              "  <svg xmlns=\"http://www.w3.org/2000/svg\" height=\"24px\" viewBox=\"0 -960 960 960\">\n",
              "    <path d=\"M120-120v-720h720v720H120Zm60-500h600v-160H180v160Zm220 220h160v-160H400v160Zm0 220h160v-160H400v160ZM180-400h160v-160H180v160Zm440 0h160v-160H620v160ZM180-180h160v-160H180v160Zm440 0h160v-160H620v160Z\"/>\n",
              "  </svg>\n",
              "    </button>\n",
              "\n",
              "  <style>\n",
              "    .colab-df-container {\n",
              "      display:flex;\n",
              "      gap: 12px;\n",
              "    }\n",
              "\n",
              "    .colab-df-convert {\n",
              "      background-color: #E8F0FE;\n",
              "      border: none;\n",
              "      border-radius: 50%;\n",
              "      cursor: pointer;\n",
              "      display: none;\n",
              "      fill: #1967D2;\n",
              "      height: 32px;\n",
              "      padding: 0 0 0 0;\n",
              "      width: 32px;\n",
              "    }\n",
              "\n",
              "    .colab-df-convert:hover {\n",
              "      background-color: #E2EBFA;\n",
              "      box-shadow: 0px 1px 2px rgba(60, 64, 67, 0.3), 0px 1px 3px 1px rgba(60, 64, 67, 0.15);\n",
              "      fill: #174EA6;\n",
              "    }\n",
              "\n",
              "    .colab-df-buttons div {\n",
              "      margin-bottom: 4px;\n",
              "    }\n",
              "\n",
              "    [theme=dark] .colab-df-convert {\n",
              "      background-color: #3B4455;\n",
              "      fill: #D2E3FC;\n",
              "    }\n",
              "\n",
              "    [theme=dark] .colab-df-convert:hover {\n",
              "      background-color: #434B5C;\n",
              "      box-shadow: 0px 1px 3px 1px rgba(0, 0, 0, 0.15);\n",
              "      filter: drop-shadow(0px 1px 2px rgba(0, 0, 0, 0.3));\n",
              "      fill: #FFFFFF;\n",
              "    }\n",
              "  </style>\n",
              "\n",
              "    <script>\n",
              "      const buttonEl =\n",
              "        document.querySelector('#df-776ee8cb-be26-43fc-8c11-1cb9e2a86f66 button.colab-df-convert');\n",
              "      buttonEl.style.display =\n",
              "        google.colab.kernel.accessAllowed ? 'block' : 'none';\n",
              "\n",
              "      async function convertToInteractive(key) {\n",
              "        const element = document.querySelector('#df-776ee8cb-be26-43fc-8c11-1cb9e2a86f66');\n",
              "        const dataTable =\n",
              "          await google.colab.kernel.invokeFunction('convertToInteractive',\n",
              "                                                    [key], {});\n",
              "        if (!dataTable) return;\n",
              "\n",
              "        const docLinkHtml = 'Like what you see? Visit the ' +\n",
              "          '<a target=\"_blank\" href=https://colab.research.google.com/notebooks/data_table.ipynb>data table notebook</a>'\n",
              "          + ' to learn more about interactive tables.';\n",
              "        element.innerHTML = '';\n",
              "        dataTable['output_type'] = 'display_data';\n",
              "        await google.colab.output.renderOutput(dataTable, element);\n",
              "        const docLink = document.createElement('div');\n",
              "        docLink.innerHTML = docLinkHtml;\n",
              "        element.appendChild(docLink);\n",
              "      }\n",
              "    </script>\n",
              "  </div>\n",
              "\n",
              "\n",
              "<div id=\"df-0b613f5d-c778-433d-96cc-43ab04da55ef\">\n",
              "  <button class=\"colab-df-quickchart\" onclick=\"quickchart('df-0b613f5d-c778-433d-96cc-43ab04da55ef')\"\n",
              "            title=\"Suggest charts\"\n",
              "            style=\"display:none;\">\n",
              "\n",
              "<svg xmlns=\"http://www.w3.org/2000/svg\" height=\"24px\"viewBox=\"0 0 24 24\"\n",
              "     width=\"24px\">\n",
              "    <g>\n",
              "        <path d=\"M19 3H5c-1.1 0-2 .9-2 2v14c0 1.1.9 2 2 2h14c1.1 0 2-.9 2-2V5c0-1.1-.9-2-2-2zM9 17H7v-7h2v7zm4 0h-2V7h2v10zm4 0h-2v-4h2v4z\"/>\n",
              "    </g>\n",
              "</svg>\n",
              "  </button>\n",
              "\n",
              "<style>\n",
              "  .colab-df-quickchart {\n",
              "      --bg-color: #E8F0FE;\n",
              "      --fill-color: #1967D2;\n",
              "      --hover-bg-color: #E2EBFA;\n",
              "      --hover-fill-color: #174EA6;\n",
              "      --disabled-fill-color: #AAA;\n",
              "      --disabled-bg-color: #DDD;\n",
              "  }\n",
              "\n",
              "  [theme=dark] .colab-df-quickchart {\n",
              "      --bg-color: #3B4455;\n",
              "      --fill-color: #D2E3FC;\n",
              "      --hover-bg-color: #434B5C;\n",
              "      --hover-fill-color: #FFFFFF;\n",
              "      --disabled-bg-color: #3B4455;\n",
              "      --disabled-fill-color: #666;\n",
              "  }\n",
              "\n",
              "  .colab-df-quickchart {\n",
              "    background-color: var(--bg-color);\n",
              "    border: none;\n",
              "    border-radius: 50%;\n",
              "    cursor: pointer;\n",
              "    display: none;\n",
              "    fill: var(--fill-color);\n",
              "    height: 32px;\n",
              "    padding: 0;\n",
              "    width: 32px;\n",
              "  }\n",
              "\n",
              "  .colab-df-quickchart:hover {\n",
              "    background-color: var(--hover-bg-color);\n",
              "    box-shadow: 0 1px 2px rgba(60, 64, 67, 0.3), 0 1px 3px 1px rgba(60, 64, 67, 0.15);\n",
              "    fill: var(--button-hover-fill-color);\n",
              "  }\n",
              "\n",
              "  .colab-df-quickchart-complete:disabled,\n",
              "  .colab-df-quickchart-complete:disabled:hover {\n",
              "    background-color: var(--disabled-bg-color);\n",
              "    fill: var(--disabled-fill-color);\n",
              "    box-shadow: none;\n",
              "  }\n",
              "\n",
              "  .colab-df-spinner {\n",
              "    border: 2px solid var(--fill-color);\n",
              "    border-color: transparent;\n",
              "    border-bottom-color: var(--fill-color);\n",
              "    animation:\n",
              "      spin 1s steps(1) infinite;\n",
              "  }\n",
              "\n",
              "  @keyframes spin {\n",
              "    0% {\n",
              "      border-color: transparent;\n",
              "      border-bottom-color: var(--fill-color);\n",
              "      border-left-color: var(--fill-color);\n",
              "    }\n",
              "    20% {\n",
              "      border-color: transparent;\n",
              "      border-left-color: var(--fill-color);\n",
              "      border-top-color: var(--fill-color);\n",
              "    }\n",
              "    30% {\n",
              "      border-color: transparent;\n",
              "      border-left-color: var(--fill-color);\n",
              "      border-top-color: var(--fill-color);\n",
              "      border-right-color: var(--fill-color);\n",
              "    }\n",
              "    40% {\n",
              "      border-color: transparent;\n",
              "      border-right-color: var(--fill-color);\n",
              "      border-top-color: var(--fill-color);\n",
              "    }\n",
              "    60% {\n",
              "      border-color: transparent;\n",
              "      border-right-color: var(--fill-color);\n",
              "    }\n",
              "    80% {\n",
              "      border-color: transparent;\n",
              "      border-right-color: var(--fill-color);\n",
              "      border-bottom-color: var(--fill-color);\n",
              "    }\n",
              "    90% {\n",
              "      border-color: transparent;\n",
              "      border-bottom-color: var(--fill-color);\n",
              "    }\n",
              "  }\n",
              "</style>\n",
              "\n",
              "  <script>\n",
              "    async function quickchart(key) {\n",
              "      const quickchartButtonEl =\n",
              "        document.querySelector('#' + key + ' button');\n",
              "      quickchartButtonEl.disabled = true;  // To prevent multiple clicks.\n",
              "      quickchartButtonEl.classList.add('colab-df-spinner');\n",
              "      try {\n",
              "        const charts = await google.colab.kernel.invokeFunction(\n",
              "            'suggestCharts', [key], {});\n",
              "      } catch (error) {\n",
              "        console.error('Error during call to suggestCharts:', error);\n",
              "      }\n",
              "      quickchartButtonEl.classList.remove('colab-df-spinner');\n",
              "      quickchartButtonEl.classList.add('colab-df-quickchart-complete');\n",
              "    }\n",
              "    (() => {\n",
              "      let quickchartButtonEl =\n",
              "        document.querySelector('#df-0b613f5d-c778-433d-96cc-43ab04da55ef button');\n",
              "      quickchartButtonEl.style.display =\n",
              "        google.colab.kernel.accessAllowed ? 'block' : 'none';\n",
              "    })();\n",
              "  </script>\n",
              "</div>\n",
              "\n",
              "    </div>\n",
              "  </div>\n"
            ],
            "application/vnd.google.colaboratory.intrinsic+json": {
              "type": "dataframe",
              "variable_name": "df",
              "summary": "{\n  \"name\": \"df\",\n  \"rows\": 27078,\n  \"fields\": [\n    {\n      \"column\": \"DATE\",\n      \"properties\": {\n        \"dtype\": \"category\",\n        \"num_unique_values\": 2980,\n        \"samples\": [\n          \"112/02/03\",\n          \"113/07/12\",\n          \"106/08/22\"\n        ],\n        \"semantic_type\": \"\",\n        \"description\": \"\"\n      }\n    },\n    {\n      \"column\": \"TP\",\n      \"properties\": {\n        \"dtype\": \"number\",\n        \"std\": 1346.5816679504221,\n        \"min\": 5.0,\n        \"max\": 165197.3,\n        \"num_unique_values\": 2573,\n        \"samples\": [\n          876.0,\n          1456.0,\n          2100.0\n        ],\n        \"semantic_type\": \"\",\n        \"description\": \"\"\n      }\n    },\n    {\n      \"column\": \"AP\",\n      \"properties\": {\n        \"dtype\": \"number\",\n        \"std\": 18.96458842990962,\n        \"min\": 0.3,\n        \"max\": 367.9,\n        \"num_unique_values\": 1009,\n        \"samples\": [\n          74.6,\n          66.1,\n          65.8\n        ],\n        \"semantic_type\": \"\",\n        \"description\": \"\"\n      }\n    },\n    {\n      \"column\": \"AREA\",\n      \"properties\": {\n        \"dtype\": \"number\",\n        \"std\": 23.35476737075242,\n        \"min\": 0.59,\n        \"max\": 1350.04,\n        \"num_unique_values\": 5029,\n        \"samples\": [\n          31.73,\n          55.04,\n          53.21\n        ],\n        \"semantic_type\": \"\",\n        \"description\": \"\"\n      }\n    },\n    {\n      \"column\": \"TYPE\",\n      \"properties\": {\n        \"dtype\": \"number\",\n        \"std\": 0,\n        \"min\": 1,\n        \"max\": 11,\n        \"num_unique_values\": 7,\n        \"samples\": [\n          1,\n          3,\n          11\n        ],\n        \"semantic_type\": \"\",\n        \"description\": \"\"\n      }\n    },\n    {\n      \"column\": \"AGE\",\n      \"properties\": {\n        \"dtype\": \"number\",\n        \"std\": 12,\n        \"min\": 1,\n        \"max\": 109,\n        \"num_unique_values\": 64,\n        \"samples\": [\n          48,\n          70,\n          22\n        ],\n        \"semantic_type\": \"\",\n        \"description\": \"\"\n      }\n    },\n    {\n      \"column\": \"BOOM\",\n      \"properties\": {\n        \"dtype\": \"number\",\n        \"std\": 9,\n        \"min\": 10,\n        \"max\": 41,\n        \"num_unique_values\": 30,\n        \"samples\": [\n          10,\n          28,\n          36\n        ],\n        \"semantic_type\": \"\",\n        \"description\": \"\"\n      }\n    },\n    {\n      \"column\": \"STOCK\",\n      \"properties\": {\n        \"dtype\": \"number\",\n        \"std\": 3719.2025886970664,\n        \"min\": 7166.01709,\n        \"max\": 23032.25,\n        \"num_unique_values\": 145,\n        \"samples\": [\n          10874.95996,\n          20396.59961,\n          9187.108398\n        ],\n        \"semantic_type\": \"\",\n        \"description\": \"\"\n      }\n    },\n    {\n      \"column\": \"UNEMP\",\n      \"properties\": {\n        \"dtype\": \"number\",\n        \"std\": 0.217779884493956,\n        \"min\": 3.31,\n        \"max\": 4.8,\n        \"num_unique_values\": 69,\n        \"samples\": [\n          3.79,\n          4.4,\n          4.0\n        ],\n        \"semantic_type\": \"\",\n        \"description\": \"\"\n      }\n    },\n    {\n      \"column\": \"EXCHANGE\",\n      \"properties\": {\n        \"dtype\": \"number\",\n        \"std\": 1.3298095033988688,\n        \"min\": 27.678,\n        \"max\": 33.644,\n        \"num_unique_values\": 142,\n        \"samples\": [\n          32.302,\n          30.446,\n          31.335\n        ],\n        \"semantic_type\": \"\",\n        \"description\": \"\"\n      }\n    }\n  ]\n}"
            }
          },
          "metadata": {},
          "execution_count": 7
        }
      ]
    },
    {
      "cell_type": "code",
      "source": [
        "dataset=df.values\n",
        "np.random.shuffle(dataset)"
      ],
      "metadata": {
        "id": "yn-RVuDw2k_w"
      },
      "execution_count": null,
      "outputs": []
    },
    {
      "cell_type": "code",
      "source": [
        "y=dataset[:,3]\n",
        "z=dataset[:,2]\n",
        "x=dataset[:,4:10]"
      ],
      "metadata": {
        "id": "3ig_D6753CiO"
      },
      "execution_count": null,
      "outputs": []
    },
    {
      "cell_type": "code",
      "source": [
        "mask=np.random.rand(len(df))<0.8\n",
        "df_train=df[mask]\n",
        "df_test=df[~mask]\n",
        "print(\"Train:\", df_train.shape)\n",
        "print(\"Test:\", df_test.shape)\n"
      ],
      "metadata": {
        "colab": {
          "base_uri": "https://localhost:8080/"
        },
        "id": "jcfh8R3U3CoC",
        "outputId": "3febc1dc-9ab9-4766-ebad-f60bea152a2f"
      },
      "execution_count": null,
      "outputs": [
        {
          "output_type": "stream",
          "name": "stdout",
          "text": [
            "Train: (21638, 10)\n",
            "Test: (5440, 10)\n"
          ]
        }
      ]
    },
    {
      "cell_type": "code",
      "source": [
        "x_train=df_train.iloc[:, 4:10].values\n",
        "y_train=df_train.iloc[:,2].values\n",
        "x_test=df_test.iloc[:, 4:10].values\n",
        "y_test=df_test.iloc[:,2].values"
      ],
      "metadata": {
        "id": "jRAH1Nk_3CsG"
      },
      "execution_count": null,
      "outputs": []
    },
    {
      "cell_type": "code",
      "source": [
        "x_train = x_train.astype(np.float64)\n",
        "x_test = x_test.astype(np.float64)"
      ],
      "metadata": {
        "id": "ZvhBteEK6_hA"
      },
      "execution_count": null,
      "outputs": []
    },
    {
      "cell_type": "code",
      "source": [
        "x_train -= x_train.mean(axis=0)\n",
        "x_train /= x_train.std(axis=0)\n",
        "x_test -= x_test.mean(axis=0)\n",
        "x_test /= x_test.std(axis=0)\n"
      ],
      "metadata": {
        "id": "IFEUxpEV6pug"
      },
      "execution_count": null,
      "outputs": []
    },
    {
      "cell_type": "code",
      "source": [
        "def build_model():\n",
        "  model=Sequential()\n",
        "  model.add(Input(Shape=(x_train.shape[1],)))\n",
        "  model.add(Dense(32,activation=\"relu\"))\n",
        "  model.add(Dense(1))\n",
        "  model.compile(optimizer='adam', loss='mse', metrics=[\"mae\", \"root_mean_squared_error\"])\n",
        "  return model"
      ],
      "metadata": {
        "id": "yo4WUi4k6px3"
      },
      "execution_count": null,
      "outputs": []
    },
    {
      "cell_type": "code",
      "source": [
        "k=4\n",
        "nb_val_samples=len(x_train)//k\n",
        "num_epochs=80\n",
        "mse_scores=[]\n",
        "mae_scores=[]"
      ],
      "metadata": {
        "id": "nwIBVLCW6p0P"
      },
      "execution_count": null,
      "outputs": []
    },
    {
      "cell_type": "code",
      "source": [
        "model=Sequential()\n",
        "model.add(Input(shape=(x_train.shape[1],)))\n",
        "model.add(Dense(32,activation=\"relu\"))\n",
        "model.add(Dense(32,activation=\"relu\"))\n",
        "model.add(Dense(32,activation=\"relu\"))\n",
        "model.add(Dense(1, activation=\"linear\"))\n",
        "model.summary()"
      ],
      "metadata": {
        "colab": {
          "base_uri": "https://localhost:8080/",
          "height": 257
        },
        "id": "IY8rr7pg6p2u",
        "outputId": "da474cd0-454f-49f2-adc8-3c0164aa3be6"
      },
      "execution_count": null,
      "outputs": [
        {
          "output_type": "display_data",
          "data": {
            "text/plain": [
              "\u001b[1mModel: \"sequential\"\u001b[0m\n"
            ],
            "text/html": [
              "<pre style=\"white-space:pre;overflow-x:auto;line-height:normal;font-family:Menlo,'DejaVu Sans Mono',consolas,'Courier New',monospace\"><span style=\"font-weight: bold\">Model: \"sequential\"</span>\n",
              "</pre>\n"
            ]
          },
          "metadata": {}
        },
        {
          "output_type": "display_data",
          "data": {
            "text/plain": [
              "┏━━━━━━━━━━━━━━━━━━━━━━━━━━━━━━━━━━━━━━┳━━━━━━━━━━━━━━━━━━━━━━━━━━━━━┳━━━━━━━━━━━━━━━━━┓\n",
              "┃\u001b[1m \u001b[0m\u001b[1mLayer (type)                        \u001b[0m\u001b[1m \u001b[0m┃\u001b[1m \u001b[0m\u001b[1mOutput Shape               \u001b[0m\u001b[1m \u001b[0m┃\u001b[1m \u001b[0m\u001b[1m        Param #\u001b[0m\u001b[1m \u001b[0m┃\n",
              "┡━━━━━━━━━━━━━━━━━━━━━━━━━━━━━━━━━━━━━━╇━━━━━━━━━━━━━━━━━━━━━━━━━━━━━╇━━━━━━━━━━━━━━━━━┩\n",
              "│ dense (\u001b[38;5;33mDense\u001b[0m)                        │ (\u001b[38;5;45mNone\u001b[0m, \u001b[38;5;34m32\u001b[0m)                  │             \u001b[38;5;34m224\u001b[0m │\n",
              "├──────────────────────────────────────┼─────────────────────────────┼─────────────────┤\n",
              "│ dense_1 (\u001b[38;5;33mDense\u001b[0m)                      │ (\u001b[38;5;45mNone\u001b[0m, \u001b[38;5;34m32\u001b[0m)                  │           \u001b[38;5;34m1,056\u001b[0m │\n",
              "├──────────────────────────────────────┼─────────────────────────────┼─────────────────┤\n",
              "│ dense_2 (\u001b[38;5;33mDense\u001b[0m)                      │ (\u001b[38;5;45mNone\u001b[0m, \u001b[38;5;34m32\u001b[0m)                  │           \u001b[38;5;34m1,056\u001b[0m │\n",
              "├──────────────────────────────────────┼─────────────────────────────┼─────────────────┤\n",
              "│ dense_3 (\u001b[38;5;33mDense\u001b[0m)                      │ (\u001b[38;5;45mNone\u001b[0m, \u001b[38;5;34m1\u001b[0m)                   │              \u001b[38;5;34m33\u001b[0m │\n",
              "└──────────────────────────────────────┴─────────────────────────────┴─────────────────┘\n"
            ],
            "text/html": [
              "<pre style=\"white-space:pre;overflow-x:auto;line-height:normal;font-family:Menlo,'DejaVu Sans Mono',consolas,'Courier New',monospace\">┏━━━━━━━━━━━━━━━━━━━━━━━━━━━━━━━━━━━━━━┳━━━━━━━━━━━━━━━━━━━━━━━━━━━━━┳━━━━━━━━━━━━━━━━━┓\n",
              "┃<span style=\"font-weight: bold\"> Layer (type)                         </span>┃<span style=\"font-weight: bold\"> Output Shape                </span>┃<span style=\"font-weight: bold\">         Param # </span>┃\n",
              "┡━━━━━━━━━━━━━━━━━━━━━━━━━━━━━━━━━━━━━━╇━━━━━━━━━━━━━━━━━━━━━━━━━━━━━╇━━━━━━━━━━━━━━━━━┩\n",
              "│ dense (<span style=\"color: #0087ff; text-decoration-color: #0087ff\">Dense</span>)                        │ (<span style=\"color: #00d7ff; text-decoration-color: #00d7ff\">None</span>, <span style=\"color: #00af00; text-decoration-color: #00af00\">32</span>)                  │             <span style=\"color: #00af00; text-decoration-color: #00af00\">224</span> │\n",
              "├──────────────────────────────────────┼─────────────────────────────┼─────────────────┤\n",
              "│ dense_1 (<span style=\"color: #0087ff; text-decoration-color: #0087ff\">Dense</span>)                      │ (<span style=\"color: #00d7ff; text-decoration-color: #00d7ff\">None</span>, <span style=\"color: #00af00; text-decoration-color: #00af00\">32</span>)                  │           <span style=\"color: #00af00; text-decoration-color: #00af00\">1,056</span> │\n",
              "├──────────────────────────────────────┼─────────────────────────────┼─────────────────┤\n",
              "│ dense_2 (<span style=\"color: #0087ff; text-decoration-color: #0087ff\">Dense</span>)                      │ (<span style=\"color: #00d7ff; text-decoration-color: #00d7ff\">None</span>, <span style=\"color: #00af00; text-decoration-color: #00af00\">32</span>)                  │           <span style=\"color: #00af00; text-decoration-color: #00af00\">1,056</span> │\n",
              "├──────────────────────────────────────┼─────────────────────────────┼─────────────────┤\n",
              "│ dense_3 (<span style=\"color: #0087ff; text-decoration-color: #0087ff\">Dense</span>)                      │ (<span style=\"color: #00d7ff; text-decoration-color: #00d7ff\">None</span>, <span style=\"color: #00af00; text-decoration-color: #00af00\">1</span>)                   │              <span style=\"color: #00af00; text-decoration-color: #00af00\">33</span> │\n",
              "└──────────────────────────────────────┴─────────────────────────────┴─────────────────┘\n",
              "</pre>\n"
            ]
          },
          "metadata": {}
        },
        {
          "output_type": "display_data",
          "data": {
            "text/plain": [
              "\u001b[1m Total params: \u001b[0m\u001b[38;5;34m2,369\u001b[0m (9.25 KB)\n"
            ],
            "text/html": [
              "<pre style=\"white-space:pre;overflow-x:auto;line-height:normal;font-family:Menlo,'DejaVu Sans Mono',consolas,'Courier New',monospace\"><span style=\"font-weight: bold\"> Total params: </span><span style=\"color: #00af00; text-decoration-color: #00af00\">2,369</span> (9.25 KB)\n",
              "</pre>\n"
            ]
          },
          "metadata": {}
        },
        {
          "output_type": "display_data",
          "data": {
            "text/plain": [
              "\u001b[1m Trainable params: \u001b[0m\u001b[38;5;34m2,369\u001b[0m (9.25 KB)\n"
            ],
            "text/html": [
              "<pre style=\"white-space:pre;overflow-x:auto;line-height:normal;font-family:Menlo,'DejaVu Sans Mono',consolas,'Courier New',monospace\"><span style=\"font-weight: bold\"> Trainable params: </span><span style=\"color: #00af00; text-decoration-color: #00af00\">2,369</span> (9.25 KB)\n",
              "</pre>\n"
            ]
          },
          "metadata": {}
        },
        {
          "output_type": "display_data",
          "data": {
            "text/plain": [
              "\u001b[1m Non-trainable params: \u001b[0m\u001b[38;5;34m0\u001b[0m (0.00 B)\n"
            ],
            "text/html": [
              "<pre style=\"white-space:pre;overflow-x:auto;line-height:normal;font-family:Menlo,'DejaVu Sans Mono',consolas,'Courier New',monospace\"><span style=\"font-weight: bold\"> Non-trainable params: </span><span style=\"color: #00af00; text-decoration-color: #00af00\">0</span> (0.00 B)\n",
              "</pre>\n"
            ]
          },
          "metadata": {}
        }
      ]
    },
    {
      "cell_type": "code",
      "source": [
        "model.compile(optimizer='adam', loss='mse', metrics=[\"mae\", \"root_mean_squared_error\"])"
      ],
      "metadata": {
        "id": "cFKTJWfp3Cvv"
      },
      "execution_count": null,
      "outputs": []
    },
    {
      "cell_type": "code",
      "source": [
        "history=model.fit(x_train, y_train, epochs=200, batch_size=128, verbose=2, validation_split=0.2)"
      ],
      "metadata": {
        "colab": {
          "base_uri": "https://localhost:8080/"
        },
        "id": "IxxqIVnE9YRP",
        "outputId": "03653179-e38f-4a8c-9f06-0d27f1875c3c"
      },
      "execution_count": null,
      "outputs": [
        {
          "output_type": "stream",
          "name": "stdout",
          "text": [
            "Epoch 1/200\n",
            "136/136 - 1s - 10ms/step - loss: 791.6291 - mae: 22.2272 - root_mean_squared_error: 28.1359 - val_loss: 336.4425 - val_mae: 14.4193 - val_root_mean_squared_error: 18.3424\n",
            "Epoch 2/200\n",
            "136/136 - 0s - 2ms/step - loss: 220.3945 - mae: 11.3740 - root_mean_squared_error: 14.8457 - val_loss: 310.7132 - val_mae: 13.6579 - val_root_mean_squared_error: 17.6271\n",
            "Epoch 3/200\n",
            "136/136 - 0s - 2ms/step - loss: 209.0678 - mae: 11.0774 - root_mean_squared_error: 14.4592 - val_loss: 308.8904 - val_mae: 13.5930 - val_root_mean_squared_error: 17.5753\n",
            "Epoch 4/200\n",
            "136/136 - 0s - 2ms/step - loss: 205.5163 - mae: 10.9950 - root_mean_squared_error: 14.3358 - val_loss: 309.1950 - val_mae: 13.5687 - val_root_mean_squared_error: 17.5839\n",
            "Epoch 5/200\n",
            "136/136 - 0s - 2ms/step - loss: 203.3157 - mae: 10.9289 - root_mean_squared_error: 14.2589 - val_loss: 307.5929 - val_mae: 13.5320 - val_root_mean_squared_error: 17.5383\n",
            "Epoch 6/200\n",
            "136/136 - 0s - 2ms/step - loss: 201.2809 - mae: 10.8835 - root_mean_squared_error: 14.1873 - val_loss: 306.8318 - val_mae: 13.5408 - val_root_mean_squared_error: 17.5166\n",
            "Epoch 7/200\n",
            "136/136 - 0s - 2ms/step - loss: 199.8084 - mae: 10.8371 - root_mean_squared_error: 14.1354 - val_loss: 303.8026 - val_mae: 13.4378 - val_root_mean_squared_error: 17.4299\n",
            "Epoch 8/200\n",
            "136/136 - 0s - 2ms/step - loss: 198.2198 - mae: 10.7858 - root_mean_squared_error: 14.0791 - val_loss: 302.5427 - val_mae: 13.4014 - val_root_mean_squared_error: 17.3938\n",
            "Epoch 9/200\n",
            "136/136 - 0s - 2ms/step - loss: 197.0383 - mae: 10.7425 - root_mean_squared_error: 14.0370 - val_loss: 303.2070 - val_mae: 13.4123 - val_root_mean_squared_error: 17.4128\n",
            "Epoch 10/200\n",
            "136/136 - 0s - 2ms/step - loss: 195.6381 - mae: 10.7027 - root_mean_squared_error: 13.9871 - val_loss: 304.2269 - val_mae: 13.4322 - val_root_mean_squared_error: 17.4421\n",
            "Epoch 11/200\n",
            "136/136 - 0s - 2ms/step - loss: 194.8589 - mae: 10.6650 - root_mean_squared_error: 13.9592 - val_loss: 300.2088 - val_mae: 13.3734 - val_root_mean_squared_error: 17.3265\n",
            "Epoch 12/200\n",
            "136/136 - 0s - 2ms/step - loss: 194.0088 - mae: 10.6339 - root_mean_squared_error: 13.9287 - val_loss: 296.3772 - val_mae: 13.2626 - val_root_mean_squared_error: 17.2156\n",
            "Epoch 13/200\n",
            "136/136 - 0s - 2ms/step - loss: 193.3624 - mae: 10.6117 - root_mean_squared_error: 13.9055 - val_loss: 295.8102 - val_mae: 13.2404 - val_root_mean_squared_error: 17.1991\n",
            "Epoch 14/200\n",
            "136/136 - 0s - 2ms/step - loss: 193.3733 - mae: 10.5990 - root_mean_squared_error: 13.9059 - val_loss: 293.3500 - val_mae: 13.1860 - val_root_mean_squared_error: 17.1275\n",
            "Epoch 15/200\n",
            "136/136 - 0s - 2ms/step - loss: 192.5174 - mae: 10.5728 - root_mean_squared_error: 13.8751 - val_loss: 293.7124 - val_mae: 13.2054 - val_root_mean_squared_error: 17.1380\n",
            "Epoch 16/200\n",
            "136/136 - 0s - 2ms/step - loss: 192.1217 - mae: 10.5547 - root_mean_squared_error: 13.8608 - val_loss: 292.7377 - val_mae: 13.1786 - val_root_mean_squared_error: 17.1096\n",
            "Epoch 17/200\n",
            "136/136 - 0s - 2ms/step - loss: 191.5405 - mae: 10.5288 - root_mean_squared_error: 13.8398 - val_loss: 292.3909 - val_mae: 13.1967 - val_root_mean_squared_error: 17.0994\n",
            "Epoch 18/200\n",
            "136/136 - 0s - 2ms/step - loss: 191.2465 - mae: 10.5231 - root_mean_squared_error: 13.8292 - val_loss: 293.4573 - val_mae: 13.2205 - val_root_mean_squared_error: 17.1306\n",
            "Epoch 19/200\n",
            "136/136 - 0s - 2ms/step - loss: 191.0647 - mae: 10.5167 - root_mean_squared_error: 13.8226 - val_loss: 289.6990 - val_mae: 13.1180 - val_root_mean_squared_error: 17.0205\n",
            "Epoch 20/200\n",
            "136/136 - 0s - 2ms/step - loss: 191.1056 - mae: 10.5050 - root_mean_squared_error: 13.8241 - val_loss: 289.7190 - val_mae: 13.1222 - val_root_mean_squared_error: 17.0211\n",
            "Epoch 21/200\n",
            "136/136 - 0s - 2ms/step - loss: 190.4823 - mae: 10.4928 - root_mean_squared_error: 13.8015 - val_loss: 290.5928 - val_mae: 13.1402 - val_root_mean_squared_error: 17.0468\n",
            "Epoch 22/200\n",
            "136/136 - 0s - 2ms/step - loss: 190.1544 - mae: 10.4847 - root_mean_squared_error: 13.7896 - val_loss: 288.8809 - val_mae: 13.1058 - val_root_mean_squared_error: 16.9965\n",
            "Epoch 23/200\n",
            "136/136 - 0s - 2ms/step - loss: 189.6638 - mae: 10.4652 - root_mean_squared_error: 13.7718 - val_loss: 289.5179 - val_mae: 13.1255 - val_root_mean_squared_error: 17.0152\n",
            "Epoch 24/200\n",
            "136/136 - 0s - 2ms/step - loss: 189.4656 - mae: 10.4537 - root_mean_squared_error: 13.7647 - val_loss: 291.1733 - val_mae: 13.1368 - val_root_mean_squared_error: 17.0638\n",
            "Epoch 25/200\n",
            "136/136 - 0s - 2ms/step - loss: 189.0705 - mae: 10.4340 - root_mean_squared_error: 13.7503 - val_loss: 290.2093 - val_mae: 13.1472 - val_root_mean_squared_error: 17.0355\n",
            "Epoch 26/200\n",
            "136/136 - 0s - 2ms/step - loss: 189.2332 - mae: 10.4561 - root_mean_squared_error: 13.7562 - val_loss: 294.5536 - val_mae: 13.2198 - val_root_mean_squared_error: 17.1626\n",
            "Epoch 27/200\n",
            "136/136 - 1s - 4ms/step - loss: 188.8508 - mae: 10.4321 - root_mean_squared_error: 13.7423 - val_loss: 290.5979 - val_mae: 13.1473 - val_root_mean_squared_error: 17.0469\n",
            "Epoch 28/200\n",
            "136/136 - 0s - 2ms/step - loss: 188.5331 - mae: 10.4294 - root_mean_squared_error: 13.7307 - val_loss: 291.3991 - val_mae: 13.1707 - val_root_mean_squared_error: 17.0704\n",
            "Epoch 29/200\n",
            "136/136 - 0s - 3ms/step - loss: 188.3251 - mae: 10.4155 - root_mean_squared_error: 13.7232 - val_loss: 289.8408 - val_mae: 13.1394 - val_root_mean_squared_error: 17.0247\n",
            "Epoch 30/200\n",
            "136/136 - 0s - 2ms/step - loss: 188.1120 - mae: 10.4067 - root_mean_squared_error: 13.7154 - val_loss: 290.1665 - val_mae: 13.1589 - val_root_mean_squared_error: 17.0343\n",
            "Epoch 31/200\n",
            "136/136 - 0s - 2ms/step - loss: 187.6035 - mae: 10.3972 - root_mean_squared_error: 13.6968 - val_loss: 288.0210 - val_mae: 13.0707 - val_root_mean_squared_error: 16.9712\n",
            "Epoch 32/200\n",
            "136/136 - 0s - 2ms/step - loss: 187.9663 - mae: 10.3984 - root_mean_squared_error: 13.7101 - val_loss: 288.6720 - val_mae: 13.1049 - val_root_mean_squared_error: 16.9904\n",
            "Epoch 33/200\n",
            "136/136 - 0s - 2ms/step - loss: 187.7777 - mae: 10.4002 - root_mean_squared_error: 13.7032 - val_loss: 288.9527 - val_mae: 13.1143 - val_root_mean_squared_error: 16.9986\n",
            "Epoch 34/200\n",
            "136/136 - 0s - 2ms/step - loss: 187.2764 - mae: 10.3850 - root_mean_squared_error: 13.6849 - val_loss: 289.4250 - val_mae: 13.1330 - val_root_mean_squared_error: 17.0125\n",
            "Epoch 35/200\n",
            "136/136 - 0s - 2ms/step - loss: 186.8878 - mae: 10.3708 - root_mean_squared_error: 13.6707 - val_loss: 288.3592 - val_mae: 13.1074 - val_root_mean_squared_error: 16.9811\n",
            "Epoch 36/200\n",
            "136/136 - 0s - 2ms/step - loss: 187.0375 - mae: 10.3709 - root_mean_squared_error: 13.6762 - val_loss: 288.7231 - val_mae: 13.1067 - val_root_mean_squared_error: 16.9919\n",
            "Epoch 37/200\n",
            "136/136 - 0s - 2ms/step - loss: 186.5560 - mae: 10.3579 - root_mean_squared_error: 13.6586 - val_loss: 287.4341 - val_mae: 13.0643 - val_root_mean_squared_error: 16.9539\n",
            "Epoch 38/200\n",
            "136/136 - 0s - 2ms/step - loss: 187.1080 - mae: 10.3779 - root_mean_squared_error: 13.6787 - val_loss: 290.9492 - val_mae: 13.1506 - val_root_mean_squared_error: 17.0572\n",
            "Epoch 39/200\n",
            "136/136 - 0s - 2ms/step - loss: 186.3598 - mae: 10.3525 - root_mean_squared_error: 13.6514 - val_loss: 288.2119 - val_mae: 13.1008 - val_root_mean_squared_error: 16.9768\n",
            "Epoch 40/200\n",
            "136/136 - 0s - 2ms/step - loss: 186.3288 - mae: 10.3385 - root_mean_squared_error: 13.6502 - val_loss: 293.4606 - val_mae: 13.2119 - val_root_mean_squared_error: 17.1307\n",
            "Epoch 41/200\n",
            "136/136 - 0s - 2ms/step - loss: 185.8241 - mae: 10.3349 - root_mean_squared_error: 13.6317 - val_loss: 287.5822 - val_mae: 13.0873 - val_root_mean_squared_error: 16.9583\n",
            "Epoch 42/200\n",
            "136/136 - 0s - 2ms/step - loss: 185.5119 - mae: 10.3259 - root_mean_squared_error: 13.6203 - val_loss: 289.4405 - val_mae: 13.1290 - val_root_mean_squared_error: 17.0129\n",
            "Epoch 43/200\n",
            "136/136 - 0s - 2ms/step - loss: 185.9493 - mae: 10.3352 - root_mean_squared_error: 13.6363 - val_loss: 293.8239 - val_mae: 13.2140 - val_root_mean_squared_error: 17.1413\n",
            "Epoch 44/200\n",
            "136/136 - 0s - 2ms/step - loss: 185.7341 - mae: 10.3234 - root_mean_squared_error: 13.6284 - val_loss: 289.3639 - val_mae: 13.1179 - val_root_mean_squared_error: 17.0107\n",
            "Epoch 45/200\n",
            "136/136 - 0s - 2ms/step - loss: 185.5948 - mae: 10.3249 - root_mean_squared_error: 13.6233 - val_loss: 288.4164 - val_mae: 13.0945 - val_root_mean_squared_error: 16.9828\n",
            "Epoch 46/200\n",
            "136/136 - 0s - 2ms/step - loss: 185.6747 - mae: 10.3146 - root_mean_squared_error: 13.6262 - val_loss: 293.4711 - val_mae: 13.2174 - val_root_mean_squared_error: 17.1310\n",
            "Epoch 47/200\n",
            "136/136 - 0s - 2ms/step - loss: 185.8474 - mae: 10.3216 - root_mean_squared_error: 13.6326 - val_loss: 292.9919 - val_mae: 13.2014 - val_root_mean_squared_error: 17.1170\n",
            "Epoch 48/200\n",
            "136/136 - 0s - 2ms/step - loss: 185.3255 - mae: 10.3155 - root_mean_squared_error: 13.6134 - val_loss: 291.0054 - val_mae: 13.1609 - val_root_mean_squared_error: 17.0589\n",
            "Epoch 49/200\n",
            "136/136 - 0s - 2ms/step - loss: 185.8911 - mae: 10.3258 - root_mean_squared_error: 13.6342 - val_loss: 286.9582 - val_mae: 13.0663 - val_root_mean_squared_error: 16.9398\n",
            "Epoch 50/200\n",
            "136/136 - 0s - 2ms/step - loss: 184.9740 - mae: 10.2911 - root_mean_squared_error: 13.6005 - val_loss: 290.3820 - val_mae: 13.1422 - val_root_mean_squared_error: 17.0406\n",
            "Epoch 51/200\n",
            "136/136 - 0s - 2ms/step - loss: 185.3557 - mae: 10.3092 - root_mean_squared_error: 13.6145 - val_loss: 290.0709 - val_mae: 13.1341 - val_root_mean_squared_error: 17.0315\n",
            "Epoch 52/200\n",
            "136/136 - 0s - 2ms/step - loss: 184.7303 - mae: 10.2951 - root_mean_squared_error: 13.5916 - val_loss: 286.6065 - val_mae: 13.0618 - val_root_mean_squared_error: 16.9295\n",
            "Epoch 53/200\n",
            "136/136 - 0s - 2ms/step - loss: 184.7321 - mae: 10.2924 - root_mean_squared_error: 13.5916 - val_loss: 287.7211 - val_mae: 13.1121 - val_root_mean_squared_error: 16.9623\n",
            "Epoch 54/200\n",
            "136/136 - 0s - 2ms/step - loss: 184.4327 - mae: 10.2743 - root_mean_squared_error: 13.5806 - val_loss: 285.0032 - val_mae: 13.0169 - val_root_mean_squared_error: 16.8820\n",
            "Epoch 55/200\n",
            "136/136 - 0s - 2ms/step - loss: 184.2542 - mae: 10.2753 - root_mean_squared_error: 13.5740 - val_loss: 286.6701 - val_mae: 13.0670 - val_root_mean_squared_error: 16.9313\n",
            "Epoch 56/200\n",
            "136/136 - 0s - 2ms/step - loss: 184.5821 - mae: 10.2845 - root_mean_squared_error: 13.5861 - val_loss: 286.1351 - val_mae: 13.0515 - val_root_mean_squared_error: 16.9155\n",
            "Epoch 57/200\n",
            "136/136 - 0s - 2ms/step - loss: 184.6375 - mae: 10.2727 - root_mean_squared_error: 13.5881 - val_loss: 287.0533 - val_mae: 13.0894 - val_root_mean_squared_error: 16.9426\n",
            "Epoch 58/200\n",
            "136/136 - 0s - 2ms/step - loss: 184.3965 - mae: 10.2822 - root_mean_squared_error: 13.5793 - val_loss: 290.9743 - val_mae: 13.1683 - val_root_mean_squared_error: 17.0580\n",
            "Epoch 59/200\n",
            "136/136 - 0s - 2ms/step - loss: 184.5239 - mae: 10.2859 - root_mean_squared_error: 13.5840 - val_loss: 287.0433 - val_mae: 13.0916 - val_root_mean_squared_error: 16.9424\n",
            "Epoch 60/200\n",
            "136/136 - 0s - 2ms/step - loss: 183.9211 - mae: 10.2606 - root_mean_squared_error: 13.5618 - val_loss: 289.6156 - val_mae: 13.1706 - val_root_mean_squared_error: 17.0181\n",
            "Epoch 61/200\n",
            "136/136 - 0s - 2ms/step - loss: 184.9529 - mae: 10.2965 - root_mean_squared_error: 13.5997 - val_loss: 286.8979 - val_mae: 13.0708 - val_root_mean_squared_error: 16.9381\n",
            "Epoch 62/200\n",
            "136/136 - 0s - 2ms/step - loss: 183.8806 - mae: 10.2596 - root_mean_squared_error: 13.5603 - val_loss: 294.9250 - val_mae: 13.2576 - val_root_mean_squared_error: 17.1734\n",
            "Epoch 63/200\n",
            "136/136 - 0s - 2ms/step - loss: 183.6821 - mae: 10.2542 - root_mean_squared_error: 13.5529 - val_loss: 292.3885 - val_mae: 13.1908 - val_root_mean_squared_error: 17.0994\n",
            "Epoch 64/200\n",
            "136/136 - 0s - 2ms/step - loss: 183.9337 - mae: 10.2593 - root_mean_squared_error: 13.5622 - val_loss: 286.9635 - val_mae: 13.0747 - val_root_mean_squared_error: 16.9400\n",
            "Epoch 65/200\n",
            "136/136 - 0s - 3ms/step - loss: 183.4291 - mae: 10.2336 - root_mean_squared_error: 13.5436 - val_loss: 289.1361 - val_mae: 13.1268 - val_root_mean_squared_error: 17.0040\n",
            "Epoch 66/200\n",
            "136/136 - 0s - 2ms/step - loss: 183.3784 - mae: 10.2461 - root_mean_squared_error: 13.5417 - val_loss: 290.7534 - val_mae: 13.2049 - val_root_mean_squared_error: 17.0515\n",
            "Epoch 67/200\n",
            "136/136 - 1s - 5ms/step - loss: 183.3689 - mae: 10.2393 - root_mean_squared_error: 13.5414 - val_loss: 288.8358 - val_mae: 13.1312 - val_root_mean_squared_error: 16.9952\n",
            "Epoch 68/200\n",
            "136/136 - 0s - 3ms/step - loss: 183.5849 - mae: 10.2433 - root_mean_squared_error: 13.5494 - val_loss: 293.7437 - val_mae: 13.2295 - val_root_mean_squared_error: 17.1390\n",
            "Epoch 69/200\n",
            "136/136 - 0s - 2ms/step - loss: 183.2055 - mae: 10.2278 - root_mean_squared_error: 13.5353 - val_loss: 287.0790 - val_mae: 13.0721 - val_root_mean_squared_error: 16.9434\n",
            "Epoch 70/200\n",
            "136/136 - 0s - 2ms/step - loss: 183.2931 - mae: 10.2430 - root_mean_squared_error: 13.5386 - val_loss: 293.1076 - val_mae: 13.2105 - val_root_mean_squared_error: 17.1204\n",
            "Epoch 71/200\n",
            "136/136 - 0s - 2ms/step - loss: 183.1066 - mae: 10.2224 - root_mean_squared_error: 13.5317 - val_loss: 286.0358 - val_mae: 13.0442 - val_root_mean_squared_error: 16.9126\n",
            "Epoch 72/200\n",
            "136/136 - 0s - 2ms/step - loss: 183.1581 - mae: 10.2455 - root_mean_squared_error: 13.5336 - val_loss: 295.4193 - val_mae: 13.2601 - val_root_mean_squared_error: 17.1878\n",
            "Epoch 73/200\n",
            "136/136 - 0s - 2ms/step - loss: 183.3106 - mae: 10.2273 - root_mean_squared_error: 13.5392 - val_loss: 286.8316 - val_mae: 13.0505 - val_root_mean_squared_error: 16.9361\n",
            "Epoch 74/200\n",
            "136/136 - 0s - 2ms/step - loss: 182.9741 - mae: 10.2210 - root_mean_squared_error: 13.5268 - val_loss: 293.6809 - val_mae: 13.2278 - val_root_mean_squared_error: 17.1371\n",
            "Epoch 75/200\n",
            "136/136 - 0s - 2ms/step - loss: 182.5498 - mae: 10.2093 - root_mean_squared_error: 13.5111 - val_loss: 286.1064 - val_mae: 13.0483 - val_root_mean_squared_error: 16.9147\n",
            "Epoch 76/200\n",
            "136/136 - 0s - 2ms/step - loss: 183.0502 - mae: 10.2320 - root_mean_squared_error: 13.5296 - val_loss: 292.3539 - val_mae: 13.1927 - val_root_mean_squared_error: 17.0984\n",
            "Epoch 77/200\n",
            "136/136 - 0s - 2ms/step - loss: 182.7444 - mae: 10.2030 - root_mean_squared_error: 13.5183 - val_loss: 290.3199 - val_mae: 13.1399 - val_root_mean_squared_error: 17.0388\n",
            "Epoch 78/200\n",
            "136/136 - 0s - 2ms/step - loss: 182.7636 - mae: 10.2185 - root_mean_squared_error: 13.5190 - val_loss: 295.2050 - val_mae: 13.2593 - val_root_mean_squared_error: 17.1815\n",
            "Epoch 79/200\n",
            "136/136 - 0s - 2ms/step - loss: 182.5535 - mae: 10.2070 - root_mean_squared_error: 13.5112 - val_loss: 289.8492 - val_mae: 13.1510 - val_root_mean_squared_error: 17.0250\n",
            "Epoch 80/200\n",
            "136/136 - 0s - 2ms/step - loss: 182.4913 - mae: 10.2088 - root_mean_squared_error: 13.5089 - val_loss: 289.3130 - val_mae: 13.1271 - val_root_mean_squared_error: 17.0092\n",
            "Epoch 81/200\n",
            "136/136 - 0s - 2ms/step - loss: 182.5832 - mae: 10.1966 - root_mean_squared_error: 13.5123 - val_loss: 286.0537 - val_mae: 13.0542 - val_root_mean_squared_error: 16.9131\n",
            "Epoch 82/200\n",
            "136/136 - 0s - 2ms/step - loss: 182.7723 - mae: 10.2146 - root_mean_squared_error: 13.5193 - val_loss: 288.6264 - val_mae: 13.1213 - val_root_mean_squared_error: 16.9890\n",
            "Epoch 83/200\n",
            "136/136 - 0s - 2ms/step - loss: 182.3455 - mae: 10.1899 - root_mean_squared_error: 13.5035 - val_loss: 287.6778 - val_mae: 13.0983 - val_root_mean_squared_error: 16.9611\n",
            "Epoch 84/200\n",
            "136/136 - 0s - 2ms/step - loss: 182.3643 - mae: 10.1971 - root_mean_squared_error: 13.5042 - val_loss: 288.6187 - val_mae: 13.1466 - val_root_mean_squared_error: 16.9888\n",
            "Epoch 85/200\n",
            "136/136 - 0s - 2ms/step - loss: 182.3054 - mae: 10.1950 - root_mean_squared_error: 13.5021 - val_loss: 285.0040 - val_mae: 13.0184 - val_root_mean_squared_error: 16.8821\n",
            "Epoch 86/200\n",
            "136/136 - 0s - 2ms/step - loss: 182.5697 - mae: 10.2009 - root_mean_squared_error: 13.5118 - val_loss: 289.1823 - val_mae: 13.1268 - val_root_mean_squared_error: 17.0054\n",
            "Epoch 87/200\n",
            "136/136 - 0s - 2ms/step - loss: 182.4599 - mae: 10.1928 - root_mean_squared_error: 13.5078 - val_loss: 287.4286 - val_mae: 13.0955 - val_root_mean_squared_error: 16.9537\n",
            "Epoch 88/200\n",
            "136/136 - 0s - 2ms/step - loss: 182.3719 - mae: 10.2138 - root_mean_squared_error: 13.5045 - val_loss: 291.4427 - val_mae: 13.1796 - val_root_mean_squared_error: 17.0717\n",
            "Epoch 89/200\n",
            "136/136 - 0s - 2ms/step - loss: 182.3480 - mae: 10.1885 - root_mean_squared_error: 13.5036 - val_loss: 291.1753 - val_mae: 13.2256 - val_root_mean_squared_error: 17.0639\n",
            "Epoch 90/200\n",
            "136/136 - 0s - 2ms/step - loss: 182.2799 - mae: 10.2004 - root_mean_squared_error: 13.5011 - val_loss: 286.6616 - val_mae: 13.0685 - val_root_mean_squared_error: 16.9311\n",
            "Epoch 91/200\n",
            "136/136 - 0s - 2ms/step - loss: 182.4234 - mae: 10.2049 - root_mean_squared_error: 13.5064 - val_loss: 287.2543 - val_mae: 13.0794 - val_root_mean_squared_error: 16.9486\n",
            "Epoch 92/200\n",
            "136/136 - 0s - 2ms/step - loss: 181.6477 - mae: 10.1793 - root_mean_squared_error: 13.4777 - val_loss: 293.5175 - val_mae: 13.2204 - val_root_mean_squared_error: 17.1324\n",
            "Epoch 93/200\n",
            "136/136 - 0s - 2ms/step - loss: 182.2769 - mae: 10.1965 - root_mean_squared_error: 13.5010 - val_loss: 287.0907 - val_mae: 13.0786 - val_root_mean_squared_error: 16.9438\n",
            "Epoch 94/200\n",
            "136/136 - 0s - 2ms/step - loss: 181.8304 - mae: 10.1858 - root_mean_squared_error: 13.4845 - val_loss: 293.9124 - val_mae: 13.2327 - val_root_mean_squared_error: 17.1439\n",
            "Epoch 95/200\n",
            "136/136 - 0s - 2ms/step - loss: 182.0239 - mae: 10.1838 - root_mean_squared_error: 13.4916 - val_loss: 289.3401 - val_mae: 13.1542 - val_root_mean_squared_error: 17.0100\n",
            "Epoch 96/200\n",
            "136/136 - 0s - 2ms/step - loss: 181.6176 - mae: 10.1685 - root_mean_squared_error: 13.4766 - val_loss: 288.7094 - val_mae: 13.1369 - val_root_mean_squared_error: 16.9915\n",
            "Epoch 97/200\n",
            "136/136 - 0s - 2ms/step - loss: 181.4865 - mae: 10.1755 - root_mean_squared_error: 13.4717 - val_loss: 291.8156 - val_mae: 13.1946 - val_root_mean_squared_error: 17.0826\n",
            "Epoch 98/200\n",
            "136/136 - 0s - 2ms/step - loss: 181.8963 - mae: 10.1697 - root_mean_squared_error: 13.4869 - val_loss: 290.1362 - val_mae: 13.1537 - val_root_mean_squared_error: 17.0334\n",
            "Epoch 99/200\n",
            "136/136 - 0s - 2ms/step - loss: 181.4595 - mae: 10.1693 - root_mean_squared_error: 13.4707 - val_loss: 293.7074 - val_mae: 13.2278 - val_root_mean_squared_error: 17.1379\n",
            "Epoch 100/200\n",
            "136/136 - 0s - 2ms/step - loss: 181.6127 - mae: 10.1642 - root_mean_squared_error: 13.4764 - val_loss: 291.8081 - val_mae: 13.1921 - val_root_mean_squared_error: 17.0824\n",
            "Epoch 101/200\n",
            "136/136 - 0s - 2ms/step - loss: 181.7347 - mae: 10.1924 - root_mean_squared_error: 13.4809 - val_loss: 289.2920 - val_mae: 13.1402 - val_root_mean_squared_error: 17.0086\n",
            "Epoch 102/200\n",
            "136/136 - 0s - 2ms/step - loss: 181.9007 - mae: 10.1778 - root_mean_squared_error: 13.4871 - val_loss: 297.3903 - val_mae: 13.3135 - val_root_mean_squared_error: 17.2450\n",
            "Epoch 103/200\n",
            "136/136 - 0s - 2ms/step - loss: 181.5207 - mae: 10.1697 - root_mean_squared_error: 13.4730 - val_loss: 286.9127 - val_mae: 13.0785 - val_root_mean_squared_error: 16.9385\n",
            "Epoch 104/200\n",
            "136/136 - 0s - 3ms/step - loss: 181.3704 - mae: 10.1668 - root_mean_squared_error: 13.4674 - val_loss: 288.4703 - val_mae: 13.1159 - val_root_mean_squared_error: 16.9844\n",
            "Epoch 105/200\n",
            "136/136 - 1s - 4ms/step - loss: 181.2282 - mae: 10.1630 - root_mean_squared_error: 13.4621 - val_loss: 290.5218 - val_mae: 13.1697 - val_root_mean_squared_error: 17.0447\n",
            "Epoch 106/200\n",
            "136/136 - 0s - 3ms/step - loss: 181.5972 - mae: 10.1780 - root_mean_squared_error: 13.4758 - val_loss: 290.7555 - val_mae: 13.1662 - val_root_mean_squared_error: 17.0516\n",
            "Epoch 107/200\n",
            "136/136 - 0s - 3ms/step - loss: 181.3430 - mae: 10.1618 - root_mean_squared_error: 13.4664 - val_loss: 290.6054 - val_mae: 13.1649 - val_root_mean_squared_error: 17.0472\n",
            "Epoch 108/200\n",
            "136/136 - 0s - 2ms/step - loss: 181.6305 - mae: 10.1785 - root_mean_squared_error: 13.4770 - val_loss: 286.2009 - val_mae: 13.0616 - val_root_mean_squared_error: 16.9175\n",
            "Epoch 109/200\n",
            "136/136 - 0s - 2ms/step - loss: 181.2946 - mae: 10.1688 - root_mean_squared_error: 13.4646 - val_loss: 286.9054 - val_mae: 13.1019 - val_root_mean_squared_error: 16.9383\n",
            "Epoch 110/200\n",
            "136/136 - 0s - 2ms/step - loss: 181.2341 - mae: 10.1641 - root_mean_squared_error: 13.4623 - val_loss: 287.1720 - val_mae: 13.0944 - val_root_mean_squared_error: 16.9462\n",
            "Epoch 111/200\n",
            "136/136 - 0s - 2ms/step - loss: 181.0503 - mae: 10.1530 - root_mean_squared_error: 13.4555 - val_loss: 291.6394 - val_mae: 13.1864 - val_root_mean_squared_error: 17.0775\n",
            "Epoch 112/200\n",
            "136/136 - 0s - 2ms/step - loss: 181.4782 - mae: 10.1616 - root_mean_squared_error: 13.4714 - val_loss: 293.7943 - val_mae: 13.2364 - val_root_mean_squared_error: 17.1404\n",
            "Epoch 113/200\n",
            "136/136 - 0s - 2ms/step - loss: 181.2748 - mae: 10.1715 - root_mean_squared_error: 13.4638 - val_loss: 290.5264 - val_mae: 13.1966 - val_root_mean_squared_error: 17.0448\n",
            "Epoch 114/200\n",
            "136/136 - 0s - 2ms/step - loss: 181.3560 - mae: 10.1556 - root_mean_squared_error: 13.4668 - val_loss: 289.2355 - val_mae: 13.1397 - val_root_mean_squared_error: 17.0069\n",
            "Epoch 115/200\n",
            "136/136 - 0s - 2ms/step - loss: 180.9905 - mae: 10.1435 - root_mean_squared_error: 13.4533 - val_loss: 287.3354 - val_mae: 13.0942 - val_root_mean_squared_error: 16.9510\n",
            "Epoch 116/200\n",
            "136/136 - 0s - 2ms/step - loss: 181.1915 - mae: 10.1542 - root_mean_squared_error: 13.4607 - val_loss: 285.1751 - val_mae: 13.0336 - val_root_mean_squared_error: 16.8871\n",
            "Epoch 117/200\n",
            "136/136 - 0s - 2ms/step - loss: 180.7704 - mae: 10.1472 - root_mean_squared_error: 13.4451 - val_loss: 291.1239 - val_mae: 13.1885 - val_root_mean_squared_error: 17.0624\n",
            "Epoch 118/200\n",
            "136/136 - 0s - 2ms/step - loss: 181.1380 - mae: 10.1500 - root_mean_squared_error: 13.4588 - val_loss: 287.3927 - val_mae: 13.0933 - val_root_mean_squared_error: 16.9527\n",
            "Epoch 119/200\n",
            "136/136 - 0s - 2ms/step - loss: 181.1397 - mae: 10.1516 - root_mean_squared_error: 13.4588 - val_loss: 287.1284 - val_mae: 13.0810 - val_root_mean_squared_error: 16.9449\n",
            "Epoch 120/200\n",
            "136/136 - 0s - 2ms/step - loss: 180.9538 - mae: 10.1378 - root_mean_squared_error: 13.4519 - val_loss: 294.6308 - val_mae: 13.2449 - val_root_mean_squared_error: 17.1648\n",
            "Epoch 121/200\n",
            "136/136 - 0s - 2ms/step - loss: 181.1247 - mae: 10.1436 - root_mean_squared_error: 13.4583 - val_loss: 291.0743 - val_mae: 13.1948 - val_root_mean_squared_error: 17.0609\n",
            "Epoch 122/200\n",
            "136/136 - 0s - 2ms/step - loss: 180.5322 - mae: 10.1341 - root_mean_squared_error: 13.4362 - val_loss: 287.5808 - val_mae: 13.1174 - val_root_mean_squared_error: 16.9582\n",
            "Epoch 123/200\n",
            "136/136 - 0s - 2ms/step - loss: 181.0320 - mae: 10.1570 - root_mean_squared_error: 13.4548 - val_loss: 287.5208 - val_mae: 13.0972 - val_root_mean_squared_error: 16.9564\n",
            "Epoch 124/200\n",
            "136/136 - 0s - 2ms/step - loss: 180.6982 - mae: 10.1337 - root_mean_squared_error: 13.4424 - val_loss: 287.3860 - val_mae: 13.0946 - val_root_mean_squared_error: 16.9525\n",
            "Epoch 125/200\n",
            "136/136 - 0s - 2ms/step - loss: 180.9545 - mae: 10.1439 - root_mean_squared_error: 13.4519 - val_loss: 289.5108 - val_mae: 13.1982 - val_root_mean_squared_error: 17.0150\n",
            "Epoch 126/200\n",
            "136/136 - 0s - 2ms/step - loss: 180.9166 - mae: 10.1439 - root_mean_squared_error: 13.4505 - val_loss: 287.8461 - val_mae: 13.0978 - val_root_mean_squared_error: 16.9660\n",
            "Epoch 127/200\n",
            "136/136 - 0s - 2ms/step - loss: 181.0889 - mae: 10.1473 - root_mean_squared_error: 13.4569 - val_loss: 292.2465 - val_mae: 13.2089 - val_root_mean_squared_error: 17.0952\n",
            "Epoch 128/200\n",
            "136/136 - 0s - 2ms/step - loss: 180.6092 - mae: 10.1351 - root_mean_squared_error: 13.4391 - val_loss: 287.9427 - val_mae: 13.1251 - val_root_mean_squared_error: 16.9689\n",
            "Epoch 129/200\n",
            "136/136 - 0s - 2ms/step - loss: 180.7238 - mae: 10.1346 - root_mean_squared_error: 13.4434 - val_loss: 287.6765 - val_mae: 13.0971 - val_root_mean_squared_error: 16.9610\n",
            "Epoch 130/200\n",
            "136/136 - 0s - 2ms/step - loss: 180.8976 - mae: 10.1455 - root_mean_squared_error: 13.4498 - val_loss: 289.9264 - val_mae: 13.1539 - val_root_mean_squared_error: 17.0272\n",
            "Epoch 131/200\n",
            "136/136 - 0s - 2ms/step - loss: 180.3141 - mae: 10.1367 - root_mean_squared_error: 13.4281 - val_loss: 288.7766 - val_mae: 13.1449 - val_root_mean_squared_error: 16.9934\n",
            "Epoch 132/200\n",
            "136/136 - 0s - 2ms/step - loss: 180.7176 - mae: 10.1385 - root_mean_squared_error: 13.4431 - val_loss: 293.6646 - val_mae: 13.2363 - val_root_mean_squared_error: 17.1366\n",
            "Epoch 133/200\n",
            "136/136 - 0s - 2ms/step - loss: 180.5310 - mae: 10.1425 - root_mean_squared_error: 13.4362 - val_loss: 290.1632 - val_mae: 13.1550 - val_root_mean_squared_error: 17.0342\n",
            "Epoch 134/200\n",
            "136/136 - 0s - 2ms/step - loss: 180.3975 - mae: 10.1241 - root_mean_squared_error: 13.4312 - val_loss: 287.9985 - val_mae: 13.1289 - val_root_mean_squared_error: 16.9705\n",
            "Epoch 135/200\n",
            "136/136 - 0s - 2ms/step - loss: 180.8516 - mae: 10.1368 - root_mean_squared_error: 13.4481 - val_loss: 292.2840 - val_mae: 13.2061 - val_root_mean_squared_error: 17.0963\n",
            "Epoch 136/200\n",
            "136/136 - 0s - 2ms/step - loss: 180.7266 - mae: 10.1338 - root_mean_squared_error: 13.4435 - val_loss: 292.7254 - val_mae: 13.2101 - val_root_mean_squared_error: 17.1092\n",
            "Epoch 137/200\n",
            "136/136 - 0s - 2ms/step - loss: 180.6806 - mae: 10.1323 - root_mean_squared_error: 13.4417 - val_loss: 291.2304 - val_mae: 13.2524 - val_root_mean_squared_error: 17.0655\n",
            "Epoch 138/200\n",
            "136/136 - 0s - 2ms/step - loss: 180.8499 - mae: 10.1421 - root_mean_squared_error: 13.4480 - val_loss: 287.6286 - val_mae: 13.0946 - val_root_mean_squared_error: 16.9596\n",
            "Epoch 139/200\n",
            "136/136 - 0s - 2ms/step - loss: 180.6268 - mae: 10.1339 - root_mean_squared_error: 13.4397 - val_loss: 302.1387 - val_mae: 13.4135 - val_root_mean_squared_error: 17.3821\n",
            "Epoch 140/200\n",
            "136/136 - 0s - 2ms/step - loss: 180.4216 - mae: 10.1360 - root_mean_squared_error: 13.4321 - val_loss: 297.1731 - val_mae: 13.3056 - val_root_mean_squared_error: 17.2387\n",
            "Epoch 141/200\n",
            "136/136 - 0s - 2ms/step - loss: 180.1587 - mae: 10.1184 - root_mean_squared_error: 13.4223 - val_loss: 289.8997 - val_mae: 13.1890 - val_root_mean_squared_error: 17.0264\n",
            "Epoch 142/200\n",
            "136/136 - 0s - 2ms/step - loss: 180.1102 - mae: 10.1183 - root_mean_squared_error: 13.4205 - val_loss: 294.0750 - val_mae: 13.2431 - val_root_mean_squared_error: 17.1486\n",
            "Epoch 143/200\n",
            "136/136 - 0s - 4ms/step - loss: 180.2226 - mae: 10.1269 - root_mean_squared_error: 13.4247 - val_loss: 289.7005 - val_mae: 13.1549 - val_root_mean_squared_error: 17.0206\n",
            "Epoch 144/200\n",
            "136/136 - 1s - 4ms/step - loss: 180.1626 - mae: 10.1176 - root_mean_squared_error: 13.4225 - val_loss: 287.5720 - val_mae: 13.1102 - val_root_mean_squared_error: 16.9579\n",
            "Epoch 145/200\n",
            "136/136 - 1s - 5ms/step - loss: 180.3745 - mae: 10.1246 - root_mean_squared_error: 13.4304 - val_loss: 290.4301 - val_mae: 13.1646 - val_root_mean_squared_error: 17.0420\n",
            "Epoch 146/200\n",
            "136/136 - 0s - 2ms/step - loss: 180.7728 - mae: 10.1466 - root_mean_squared_error: 13.4452 - val_loss: 289.5183 - val_mae: 13.1401 - val_root_mean_squared_error: 17.0152\n",
            "Epoch 147/200\n",
            "136/136 - 0s - 2ms/step - loss: 180.0641 - mae: 10.1103 - root_mean_squared_error: 13.4188 - val_loss: 290.1712 - val_mae: 13.1609 - val_root_mean_squared_error: 17.0344\n",
            "Epoch 148/200\n",
            "136/136 - 0s - 2ms/step - loss: 180.3819 - mae: 10.1189 - root_mean_squared_error: 13.4306 - val_loss: 289.8775 - val_mae: 13.1481 - val_root_mean_squared_error: 17.0258\n",
            "Epoch 149/200\n",
            "136/136 - 0s - 2ms/step - loss: 180.2408 - mae: 10.1174 - root_mean_squared_error: 13.4254 - val_loss: 292.8435 - val_mae: 13.2248 - val_root_mean_squared_error: 17.1127\n",
            "Epoch 150/200\n",
            "136/136 - 0s - 2ms/step - loss: 179.9033 - mae: 10.1067 - root_mean_squared_error: 13.4128 - val_loss: 286.6073 - val_mae: 13.0658 - val_root_mean_squared_error: 16.9295\n",
            "Epoch 151/200\n",
            "136/136 - 0s - 2ms/step - loss: 180.6231 - mae: 10.1268 - root_mean_squared_error: 13.4396 - val_loss: 291.2493 - val_mae: 13.1775 - val_root_mean_squared_error: 17.0660\n",
            "Epoch 152/200\n",
            "136/136 - 0s - 2ms/step - loss: 180.2601 - mae: 10.1133 - root_mean_squared_error: 13.4261 - val_loss: 291.8104 - val_mae: 13.2002 - val_root_mean_squared_error: 17.0825\n",
            "Epoch 153/200\n",
            "136/136 - 0s - 2ms/step - loss: 179.6830 - mae: 10.0968 - root_mean_squared_error: 13.4046 - val_loss: 288.2066 - val_mae: 13.1188 - val_root_mean_squared_error: 16.9766\n",
            "Epoch 154/200\n",
            "136/136 - 0s - 2ms/step - loss: 180.4272 - mae: 10.1198 - root_mean_squared_error: 13.4323 - val_loss: 294.6163 - val_mae: 13.2585 - val_root_mean_squared_error: 17.1644\n",
            "Epoch 155/200\n",
            "136/136 - 0s - 2ms/step - loss: 180.0979 - mae: 10.1199 - root_mean_squared_error: 13.4201 - val_loss: 292.8959 - val_mae: 13.2191 - val_root_mean_squared_error: 17.1142\n",
            "Epoch 156/200\n",
            "136/136 - 0s - 2ms/step - loss: 180.1618 - mae: 10.1178 - root_mean_squared_error: 13.4224 - val_loss: 288.9697 - val_mae: 13.1300 - val_root_mean_squared_error: 16.9991\n",
            "Epoch 157/200\n",
            "136/136 - 0s - 2ms/step - loss: 179.9782 - mae: 10.1102 - root_mean_squared_error: 13.4156 - val_loss: 298.6323 - val_mae: 13.3433 - val_root_mean_squared_error: 17.2810\n",
            "Epoch 158/200\n",
            "136/136 - 0s - 2ms/step - loss: 179.6573 - mae: 10.0949 - root_mean_squared_error: 13.4036 - val_loss: 291.3753 - val_mae: 13.2071 - val_root_mean_squared_error: 17.0697\n",
            "Epoch 159/200\n",
            "136/136 - 0s - 2ms/step - loss: 179.9012 - mae: 10.1076 - root_mean_squared_error: 13.4127 - val_loss: 288.0106 - val_mae: 13.1164 - val_root_mean_squared_error: 16.9709\n",
            "Epoch 160/200\n",
            "136/136 - 0s - 2ms/step - loss: 180.2841 - mae: 10.1267 - root_mean_squared_error: 13.4270 - val_loss: 289.5749 - val_mae: 13.1459 - val_root_mean_squared_error: 17.0169\n",
            "Epoch 161/200\n",
            "136/136 - 0s - 2ms/step - loss: 179.6842 - mae: 10.1017 - root_mean_squared_error: 13.4046 - val_loss: 287.7590 - val_mae: 13.1050 - val_root_mean_squared_error: 16.9635\n",
            "Epoch 162/200\n",
            "136/136 - 0s - 2ms/step - loss: 180.1452 - mae: 10.1186 - root_mean_squared_error: 13.4218 - val_loss: 298.7729 - val_mae: 13.3986 - val_root_mean_squared_error: 17.2850\n",
            "Epoch 163/200\n",
            "136/136 - 0s - 2ms/step - loss: 180.1817 - mae: 10.1042 - root_mean_squared_error: 13.4232 - val_loss: 291.4683 - val_mae: 13.2127 - val_root_mean_squared_error: 17.0724\n",
            "Epoch 164/200\n",
            "136/136 - 0s - 2ms/step - loss: 180.0452 - mae: 10.1053 - root_mean_squared_error: 13.4181 - val_loss: 292.1228 - val_mae: 13.2094 - val_root_mean_squared_error: 17.0916\n",
            "Epoch 165/200\n",
            "136/136 - 0s - 2ms/step - loss: 179.6395 - mae: 10.0910 - root_mean_squared_error: 13.4030 - val_loss: 297.6541 - val_mae: 13.3173 - val_root_mean_squared_error: 17.2527\n",
            "Epoch 166/200\n",
            "136/136 - 0s - 2ms/step - loss: 179.9678 - mae: 10.1121 - root_mean_squared_error: 13.4152 - val_loss: 289.7645 - val_mae: 13.1588 - val_root_mean_squared_error: 17.0225\n",
            "Epoch 167/200\n",
            "136/136 - 0s - 2ms/step - loss: 179.4520 - mae: 10.0918 - root_mean_squared_error: 13.3960 - val_loss: 292.2467 - val_mae: 13.2099 - val_root_mean_squared_error: 17.0952\n",
            "Epoch 168/200\n",
            "136/136 - 0s - 2ms/step - loss: 179.3230 - mae: 10.0990 - root_mean_squared_error: 13.3912 - val_loss: 289.7757 - val_mae: 13.1685 - val_root_mean_squared_error: 17.0228\n",
            "Epoch 169/200\n",
            "136/136 - 0s - 2ms/step - loss: 179.5848 - mae: 10.0890 - root_mean_squared_error: 13.4009 - val_loss: 294.2878 - val_mae: 13.2569 - val_root_mean_squared_error: 17.1548\n",
            "Epoch 170/200\n",
            "136/136 - 0s - 2ms/step - loss: 179.5570 - mae: 10.0962 - root_mean_squared_error: 13.3999 - val_loss: 291.4134 - val_mae: 13.2192 - val_root_mean_squared_error: 17.0708\n",
            "Epoch 171/200\n",
            "136/136 - 0s - 2ms/step - loss: 179.6506 - mae: 10.0916 - root_mean_squared_error: 13.4034 - val_loss: 291.4919 - val_mae: 13.2413 - val_root_mean_squared_error: 17.0731\n",
            "Epoch 172/200\n",
            "136/136 - 0s - 2ms/step - loss: 179.8575 - mae: 10.1046 - root_mean_squared_error: 13.4111 - val_loss: 295.9198 - val_mae: 13.3644 - val_root_mean_squared_error: 17.2023\n",
            "Epoch 173/200\n",
            "136/136 - 0s - 2ms/step - loss: 179.2689 - mae: 10.0822 - root_mean_squared_error: 13.3891 - val_loss: 302.1948 - val_mae: 13.4083 - val_root_mean_squared_error: 17.3838\n",
            "Epoch 174/200\n",
            "136/136 - 0s - 2ms/step - loss: 179.4666 - mae: 10.0869 - root_mean_squared_error: 13.3965 - val_loss: 289.5009 - val_mae: 13.1428 - val_root_mean_squared_error: 17.0147\n",
            "Epoch 175/200\n",
            "136/136 - 0s - 2ms/step - loss: 179.3859 - mae: 10.0897 - root_mean_squared_error: 13.3935 - val_loss: 293.5151 - val_mae: 13.2800 - val_root_mean_squared_error: 17.1323\n",
            "Epoch 176/200\n",
            "136/136 - 0s - 2ms/step - loss: 179.3188 - mae: 10.0798 - root_mean_squared_error: 13.3910 - val_loss: 294.3377 - val_mae: 13.2798 - val_root_mean_squared_error: 17.1563\n",
            "Epoch 177/200\n",
            "136/136 - 0s - 2ms/step - loss: 179.4302 - mae: 10.0848 - root_mean_squared_error: 13.3952 - val_loss: 295.8479 - val_mae: 13.2943 - val_root_mean_squared_error: 17.2002\n",
            "Epoch 178/200\n",
            "136/136 - 0s - 2ms/step - loss: 179.2872 - mae: 10.0693 - root_mean_squared_error: 13.3898 - val_loss: 292.9762 - val_mae: 13.2510 - val_root_mean_squared_error: 17.1165\n",
            "Epoch 179/200\n",
            "136/136 - 0s - 2ms/step - loss: 179.1205 - mae: 10.0750 - root_mean_squared_error: 13.3836 - val_loss: 294.7180 - val_mae: 13.3281 - val_root_mean_squared_error: 17.1674\n",
            "Epoch 180/200\n",
            "136/136 - 0s - 3ms/step - loss: 179.5723 - mae: 10.0893 - root_mean_squared_error: 13.4005 - val_loss: 291.3747 - val_mae: 13.2288 - val_root_mean_squared_error: 17.0697\n",
            "Epoch 181/200\n",
            "136/136 - 1s - 4ms/step - loss: 179.0904 - mae: 10.0715 - root_mean_squared_error: 13.3825 - val_loss: 290.5039 - val_mae: 13.1855 - val_root_mean_squared_error: 17.0442\n",
            "Epoch 182/200\n",
            "136/136 - 1s - 5ms/step - loss: 179.3139 - mae: 10.0779 - root_mean_squared_error: 13.3908 - val_loss: 296.7214 - val_mae: 13.3153 - val_root_mean_squared_error: 17.2256\n",
            "Epoch 183/200\n",
            "136/136 - 0s - 3ms/step - loss: 179.4042 - mae: 10.0750 - root_mean_squared_error: 13.3942 - val_loss: 294.9546 - val_mae: 13.3018 - val_root_mean_squared_error: 17.1742\n",
            "Epoch 184/200\n",
            "136/136 - 0s - 2ms/step - loss: 179.3253 - mae: 10.0885 - root_mean_squared_error: 13.3912 - val_loss: 293.1233 - val_mae: 13.2433 - val_root_mean_squared_error: 17.1208\n",
            "Epoch 185/200\n",
            "136/136 - 0s - 2ms/step - loss: 178.8000 - mae: 10.0610 - root_mean_squared_error: 13.3716 - val_loss: 288.2515 - val_mae: 13.1144 - val_root_mean_squared_error: 16.9780\n",
            "Epoch 186/200\n",
            "136/136 - 0s - 2ms/step - loss: 179.4964 - mae: 10.0920 - root_mean_squared_error: 13.3976 - val_loss: 290.9188 - val_mae: 13.1876 - val_root_mean_squared_error: 17.0563\n",
            "Epoch 187/200\n",
            "136/136 - 0s - 2ms/step - loss: 178.8657 - mae: 10.0565 - root_mean_squared_error: 13.3741 - val_loss: 296.2700 - val_mae: 13.3522 - val_root_mean_squared_error: 17.2125\n",
            "Epoch 188/200\n",
            "136/136 - 0s - 2ms/step - loss: 179.4395 - mae: 10.0900 - root_mean_squared_error: 13.3955 - val_loss: 297.1809 - val_mae: 13.3108 - val_root_mean_squared_error: 17.2389\n",
            "Epoch 189/200\n",
            "136/136 - 0s - 2ms/step - loss: 179.3808 - mae: 10.0825 - root_mean_squared_error: 13.3933 - val_loss: 289.7471 - val_mae: 13.1638 - val_root_mean_squared_error: 17.0220\n",
            "Epoch 190/200\n",
            "136/136 - 0s - 2ms/step - loss: 178.9176 - mae: 10.0675 - root_mean_squared_error: 13.3760 - val_loss: 296.1168 - val_mae: 13.3440 - val_root_mean_squared_error: 17.2080\n",
            "Epoch 191/200\n",
            "136/136 - 0s - 2ms/step - loss: 178.9874 - mae: 10.0814 - root_mean_squared_error: 13.3786 - val_loss: 290.9182 - val_mae: 13.1916 - val_root_mean_squared_error: 17.0563\n",
            "Epoch 192/200\n",
            "136/136 - 0s - 2ms/step - loss: 179.1132 - mae: 10.0752 - root_mean_squared_error: 13.3833 - val_loss: 298.0738 - val_mae: 13.3620 - val_root_mean_squared_error: 17.2648\n",
            "Epoch 193/200\n",
            "136/136 - 0s - 2ms/step - loss: 179.0130 - mae: 10.0682 - root_mean_squared_error: 13.3796 - val_loss: 294.5287 - val_mae: 13.2870 - val_root_mean_squared_error: 17.1618\n",
            "Epoch 194/200\n",
            "136/136 - 0s - 2ms/step - loss: 178.8915 - mae: 10.0759 - root_mean_squared_error: 13.3750 - val_loss: 290.9890 - val_mae: 13.2183 - val_root_mean_squared_error: 17.0584\n",
            "Epoch 195/200\n",
            "136/136 - 0s - 2ms/step - loss: 178.8645 - mae: 10.0672 - root_mean_squared_error: 13.3740 - val_loss: 297.9380 - val_mae: 13.4180 - val_root_mean_squared_error: 17.2609\n",
            "Epoch 196/200\n",
            "136/136 - 0s - 2ms/step - loss: 179.5087 - mae: 10.0915 - root_mean_squared_error: 13.3981 - val_loss: 296.0261 - val_mae: 13.3524 - val_root_mean_squared_error: 17.2054\n",
            "Epoch 197/200\n",
            "136/136 - 0s - 2ms/step - loss: 179.0234 - mae: 10.0579 - root_mean_squared_error: 13.3800 - val_loss: 292.6818 - val_mae: 13.2578 - val_root_mean_squared_error: 17.1079\n",
            "Epoch 198/200\n",
            "136/136 - 0s - 2ms/step - loss: 179.1458 - mae: 10.0743 - root_mean_squared_error: 13.3845 - val_loss: 295.2772 - val_mae: 13.2874 - val_root_mean_squared_error: 17.1836\n",
            "Epoch 199/200\n",
            "136/136 - 0s - 2ms/step - loss: 179.1867 - mae: 10.0754 - root_mean_squared_error: 13.3861 - val_loss: 293.2440 - val_mae: 13.2738 - val_root_mean_squared_error: 17.1244\n",
            "Epoch 200/200\n",
            "136/136 - 0s - 2ms/step - loss: 178.7898 - mae: 10.0572 - root_mean_squared_error: 13.3712 - val_loss: 302.8402 - val_mae: 13.5011 - val_root_mean_squared_error: 17.4023\n"
          ]
        }
      ]
    },
    {
      "cell_type": "code",
      "source": [
        "#loss, rmse=model.evaluate(x_test, y_test, verbose=0)\n",
        "#loss, mae=model.evaluate(x_test, y_test, verbose=0)\n",
        "#loss, mse=model.evaluate(x_test, y_test, verbose=0)\n",
        "loss, mae, rmse=model.evaluate(x_train, y_train, verbose=0)\n",
        "mse=rmse**2\n",
        "mse_scores.append(mse)\n",
        "mae_scores.append(mae)\n",
        "print(\"=====訓練集結果======\")\n",
        "print(\"訓練資料集的 MAE  = \", np.mean(mae_scores))\n",
        "print(\"訓練資料集的 MSE  = \", np.mean(mse_scores))\n",
        "\n",
        "loss, mae, mse=model.evaluate(x_test, y_test, verbose=0)\n",
        "mse_scores.append(mse)\n",
        "mae_scores.append(mae)\n",
        "print(\"======測試集結果========\")\n",
        "print(\"測試資料集的 MAE  = \", mae)\n",
        "print(\"測試資料集的 MSE  = \", mse)\n",
        "\n",
        "\n"
      ],
      "metadata": {
        "colab": {
          "base_uri": "https://localhost:8080/"
        },
        "id": "sAS1Q4PN9YYw",
        "outputId": "14155c0c-661b-49f4-8259-45183c6f4bcd"
      },
      "execution_count": null,
      "outputs": [
        {
          "output_type": "stream",
          "name": "stdout",
          "text": [
            "=====訓練集結果======\n",
            "訓練資料集的 MAE  =  10.747583389282227\n",
            "訓練資料集的 MSE  =  204.9461899247117\n",
            "======測試集結果========\n",
            "測試資料集的 MAE  =  10.84011173248291\n",
            "測試資料集的 MSE  =  15.734444618225098\n"
          ]
        }
      ]
    },
    {
      "cell_type": "code",
      "source": [
        "print(\"Saving model to disk...\")\n",
        "model.save(\"NEWTAIPEICITY.keras\")\n"
      ],
      "metadata": {
        "colab": {
          "base_uri": "https://localhost:8080/"
        },
        "id": "M4geWMwh_3XP",
        "outputId": "6bdb8fe6-fde5-4546-838e-c6c74075e939"
      },
      "execution_count": null,
      "outputs": [
        {
          "output_type": "stream",
          "name": "stdout",
          "text": [
            "Saving model to disk...\n"
          ]
        }
      ]
    },
    {
      "cell_type": "code",
      "source": [
        "price=model.predict(x_test, verbose=0)\n",
        "print(\"真實價格:\", y_test[70])\n",
        "print(\"模型預測價格\", price[0][0])\n"
      ],
      "metadata": {
        "colab": {
          "base_uri": "https://localhost:8080/"
        },
        "id": "FP-tuc_C9YcR",
        "outputId": "6efaf08a-bdd6-406c-a91d-6106d0867a2f"
      },
      "execution_count": null,
      "outputs": [
        {
          "output_type": "stream",
          "name": "stdout",
          "text": [
            "真實價格: 8.4\n",
            "模型預測價格 9.2441025\n"
          ]
        }
      ]
    },
    {
      "cell_type": "code",
      "source": [
        "# Linear regression model\n",
        "import seaborn as sns\n",
        "import matplotlib.pyplot as plt\n",
        "from sklearn.linear_model import LinearRegression\n",
        "from sklearn.metrics import mean_squared_error, r2_score\n",
        "# Linear regression model START\n",
        "\n",
        "# Convert the 'DATE' column to datetime objects\n",
        "df['DATE'] = pd.to_datetime(df['DATE'], errors='coerce')\n",
        "\n",
        "plt.figure(figsize=(10, 6))\n",
        "sns.heatmap(df.corr(), annot=True)\n"
      ],
      "metadata": {
        "id": "WP2kH-oM9Ye2",
        "colab": {
          "base_uri": "https://localhost:8080/",
          "height": 515
        },
        "outputId": "6cbb7281-7ad9-4910-d247-1b9481011d7d"
      },
      "execution_count": null,
      "outputs": [
        {
          "output_type": "execute_result",
          "data": {
            "text/plain": [
              "<Axes: >"
            ]
          },
          "metadata": {},
          "execution_count": 25
        },
        {
          "output_type": "display_data",
          "data": {
            "text/plain": [
              "<Figure size 1000x600 with 2 Axes>"
            ],
            "image/png": "[encoded data removed]"
          },
          "metadata": {}
        }
      ]
    },
    {
      "cell_type": "code",
      "source": [
        "# linear regression\n",
        "\n",
        "print(\"=================================\")\n",
        "model=LinearRegression()\n",
        "model.fit(x_train, y_train)\n",
        "y_pred=model.predict(x_test)\n",
        "print( \"regression coefficient\")\n",
        "print(model.coef_)\n",
        "print(\"==================================\")\n",
        "print( \"Linear regression model performance\")\n",
        "print(f'MSE: {mean_squared_error(y_test, y_pred)}')\n",
        "print(f'RMSE: {mean_squared_error(y_test, y_pred)}')\n",
        "print(f'R2= {r2_score(y_test, y_pred)*100:.2f}')\n",
        "\n",
        "print(\"==================================\")"
      ],
      "metadata": {
        "colab": {
          "base_uri": "https://localhost:8080/"
        },
        "id": "0LpDBvzjcr23",
        "outputId": "82d4ad20-7554-49b9-fdcb-55ef74c464be"
      },
      "execution_count": null,
      "outputs": [
        {
          "output_type": "stream",
          "name": "stdout",
          "text": [
            "=================================\n",
            "regression coefficient\n",
            "[-0.45918851 -3.6627886  -0.42001873  7.62596801 -2.00014069  3.12133326]\n",
            "==================================\n",
            "Linear regression model performance\n",
            "MSE: 265.8484694270669\n",
            "RMSE: 265.8484694270669\n",
            "R2= 31.99\n",
            "==================================\n"
          ]
        }
      ]
    },
    {
      "cell_type": "code",
      "source": [
        "#模型存檔\n",
        "import joblib\n",
        "!pip install streamlit\n",
        "import streamlit as st\n",
        "joblib.dump(model, 'lr_model.joblib')\n",
        "joblib.dump(x_train, 'lr_scaler.joblib')\n"
      ],
      "metadata": {
        "colab": {
          "base_uri": "https://localhost:8080/"
        },
        "id": "kErvBng3csQ7",
        "outputId": "cbda177f-2867-4792-d10f-da6d637a5999"
      },
      "execution_count": null,
      "outputs": [
        {
          "output_type": "stream",
          "name": "stdout",
          "text": [
            "Requirement already satisfied: streamlit in /usr/local/lib/python3.11/dist-packages (1.44.1)\n",
            "Requirement already satisfied: altair<6,>=4.0 in /usr/local/lib/python3.11/dist-packages (from streamlit) (5.5.0)\n",
            "Requirement already satisfied: blinker<2,>=1.0.0 in /usr/local/lib/python3.11/dist-packages (from streamlit) (1.9.0)\n",
            "Requirement already satisfied: cachetools<6,>=4.0 in /usr/local/lib/python3.11/dist-packages (from streamlit) (5.5.2)\n",
            "Requirement already satisfied: click<9,>=7.0 in /usr/local/lib/python3.11/dist-packages (from streamlit) (8.1.8)\n",
            "Requirement already satisfied: numpy<3,>=1.23 in /usr/local/lib/python3.11/dist-packages (from streamlit) (2.0.2)\n",
            "Requirement already satisfied: packaging<25,>=20 in /usr/local/lib/python3.11/dist-packages (from streamlit) (24.2)\n",
            "Requirement already satisfied: pandas<3,>=1.4.0 in /usr/local/lib/python3.11/dist-packages (from streamlit) (2.2.2)\n",
            "Requirement already satisfied: pillow<12,>=7.1.0 in /usr/local/lib/python3.11/dist-packages (from streamlit) (11.1.0)\n",
            "Requirement already satisfied: protobuf<6,>=3.20 in /usr/local/lib/python3.11/dist-packages (from streamlit) (5.29.4)\n",
            "Requirement already satisfied: pyarrow>=7.0 in /usr/local/lib/python3.11/dist-packages (from streamlit) (18.1.0)\n",
            "Requirement already satisfied: requests<3,>=2.27 in /usr/local/lib/python3.11/dist-packages (from streamlit) (2.32.3)\n",
            "Requirement already satisfied: tenacity<10,>=8.1.0 in /usr/local/lib/python3.11/dist-packages (from streamlit) (9.0.0)\n",
            "Requirement already satisfied: toml<2,>=0.10.1 in /usr/local/lib/python3.11/dist-packages (from streamlit) (0.10.2)\n",
            "Requirement already satisfied: typing-extensions<5,>=4.4.0 in /usr/local/lib/python3.11/dist-packages (from streamlit) (4.13.0)\n",
            "Requirement already satisfied: watchdog<7,>=2.1.5 in /usr/local/lib/python3.11/dist-packages (from streamlit) (6.0.0)\n",
            "Requirement already satisfied: gitpython!=3.1.19,<4,>=3.0.7 in /usr/local/lib/python3.11/dist-packages (from streamlit) (3.1.44)\n",
            "Requirement already satisfied: pydeck<1,>=0.8.0b4 in /usr/local/lib/python3.11/dist-packages (from streamlit) (0.9.1)\n",
            "Requirement already satisfied: tornado<7,>=6.0.3 in /usr/local/lib/python3.11/dist-packages (from streamlit) (6.4.2)\n",
            "Requirement already satisfied: jinja2 in /usr/local/lib/python3.11/dist-packages (from altair<6,>=4.0->streamlit) (3.1.6)\n",
            "Requirement already satisfied: jsonschema>=3.0 in /usr/local/lib/python3.11/dist-packages (from altair<6,>=4.0->streamlit) (4.23.0)\n",
            "Requirement already satisfied: narwhals>=1.14.2 in /usr/local/lib/python3.11/dist-packages (from altair<6,>=4.0->streamlit) (1.32.0)\n",
            "Requirement already satisfied: gitdb<5,>=4.0.1 in /usr/local/lib/python3.11/dist-packages (from gitpython!=3.1.19,<4,>=3.0.7->streamlit) (4.0.12)\n",
            "Requirement already satisfied: python-dateutil>=2.8.2 in /usr/local/lib/python3.11/dist-packages (from pandas<3,>=1.4.0->streamlit) (2.8.2)\n",
            "Requirement already satisfied: pytz>=2020.1 in /usr/local/lib/python3.11/dist-packages (from pandas<3,>=1.4.0->streamlit) (2025.2)\n",
            "Requirement already satisfied: tzdata>=2022.7 in /usr/local/lib/python3.11/dist-packages (from pandas<3,>=1.4.0->streamlit) (2025.2)\n",
            "Requirement already satisfied: charset-normalizer<4,>=2 in /usr/local/lib/python3.11/dist-packages (from requests<3,>=2.27->streamlit) (3.4.1)\n",
            "Requirement already satisfied: idna<4,>=2.5 in /usr/local/lib/python3.11/dist-packages (from requests<3,>=2.27->streamlit) (3.10)\n",
            "Requirement already satisfied: urllib3<3,>=1.21.1 in /usr/local/lib/python3.11/dist-packages (from requests<3,>=2.27->streamlit) (2.3.0)\n",
            "Requirement already satisfied: certifi>=2017.4.17 in /usr/local/lib/python3.11/dist-packages (from requests<3,>=2.27->streamlit) (2025.1.31)\n",
            "Requirement already satisfied: smmap<6,>=3.0.1 in /usr/local/lib/python3.11/dist-packages (from gitdb<5,>=4.0.1->gitpython!=3.1.19,<4,>=3.0.7->streamlit) (5.0.2)\n",
            "Requirement already satisfied: MarkupSafe>=2.0 in /usr/local/lib/python3.11/dist-packages (from jinja2->altair<6,>=4.0->streamlit) (3.0.2)\n",
            "Requirement already satisfied: attrs>=22.2.0 in /usr/local/lib/python3.11/dist-packages (from jsonschema>=3.0->altair<6,>=4.0->streamlit) (25.3.0)\n",
            "Requirement already satisfied: jsonschema-specifications>=2023.03.6 in /usr/local/lib/python3.11/dist-packages (from jsonschema>=3.0->altair<6,>=4.0->streamlit) (2024.10.1)\n",
            "Requirement already satisfied: referencing>=0.28.4 in /usr/local/lib/python3.11/dist-packages (from jsonschema>=3.0->altair<6,>=4.0->streamlit) (0.36.2)\n",
            "Requirement already satisfied: rpds-py>=0.7.1 in /usr/local/lib/python3.11/dist-packages (from jsonschema>=3.0->altair<6,>=4.0->streamlit) (0.24.0)\n",
            "Requirement already satisfied: six>=1.5 in /usr/local/lib/python3.11/dist-packages (from python-dateutil>=2.8.2->pandas<3,>=1.4.0->streamlit) (1.17.0)\n"
          ]
        },
        {
          "output_type": "execute_result",
          "data": {
            "text/plain": [
              "['lr_scaler.joblib']"
            ]
          },
          "metadata": {},
          "execution_count": 38
        }
      ]
    },
    {
      "cell_type": "code",
      "source": [
        "model=joblib.load('lr_model.joblib')\n",
        "scaler=joblib.load('lr_scaler.joblib')\n",
        "list1=[0 for _ in range(10)]\n",
        "st.title(\"Boston house price prediction\")\n",
        "col1, col2 = st.columns(2)\n",
        "with col1:\n",
        "  list1[0]=st.slider(\"面積:\", value=40.0, min_value=0.1, max_value=5123.0)\n",
        "  list1[1]=st.slider(\"房型:\", value=2.0, min_value=1.0, max_value=6.0)\n",
        "  list1[2]=st.slider(\"屋齡:\", value=10.0, min_value=1.0, max_value=111.0)\n",
        "with col2:\n",
        "  list1[3]=st.slider(\"景氣指標:\", value=26.0, min_value=1.0, max_value=45.0)\n",
        "  list1[4]=st.slider(\"股價指數:\", value=20000.0, min_value=7049.0, max_value=21840.0)\n",
        "  list1[5]=st.slider(\"失業率:\", value=3.1, min_value=1.0, max_value=6.0)\n",
        "  list1[6]=st.slider(\"匯率:\", value=30.3, min_value=26.0, max_value=33.0)\n",
        "if st.button(\"預測\"):\n",
        "  x_new=[list1]\n",
        "  x_new=scaler.transform(x_new)\n",
        "  st.write(f'###預測房價:{model.predict(x_new)[0]:.2f}')\n",
        "\n"
      ],
      "metadata": {
        "colab": {
          "base_uri": "https://localhost:8080/"
        },
        "id": "PuvI0RH8csUT",
        "outputId": "7fe4a5da-aa8a-450e-cdbd-d2bd55c451ce"
      },
      "execution_count": null,
      "outputs": [
        {
          "output_type": "stream",
          "name": "stderr",
          "text": [
            "2025-04-02 03:55:38.912 Thread 'MainThread': missing ScriptRunContext! This warning can be ignored when running in bare mode.\n",
            "2025-04-02 03:55:38.912 Thread 'MainThread': missing ScriptRunContext! This warning can be ignored when running in bare mode.\n",
            "2025-04-02 03:55:38.913 Thread 'MainThread': missing ScriptRunContext! This warning can be ignored when running in bare mode.\n",
            "2025-04-02 03:55:38.914 Thread 'MainThread': missing ScriptRunContext! This warning can be ignored when running in bare mode.\n",
            "2025-04-02 03:55:38.915 Thread 'MainThread': missing ScriptRunContext! This warning can be ignored when running in bare mode.\n",
            "2025-04-02 03:55:38.916 Thread 'MainThread': missing ScriptRunContext! This warning can be ignored when running in bare mode.\n",
            "2025-04-02 03:55:38.917 Thread 'MainThread': missing ScriptRunContext! This warning can be ignored when running in bare mode.\n",
            "2025-04-02 03:55:38.918 Thread 'MainThread': missing ScriptRunContext! This warning can be ignored when running in bare mode.\n",
            "2025-04-02 03:55:38.919 Thread 'MainThread': missing ScriptRunContext! This warning can be ignored when running in bare mode.\n",
            "2025-04-02 03:55:38.919 Thread 'MainThread': missing ScriptRunContext! This warning can be ignored when running in bare mode.\n",
            "2025-04-02 03:55:38.920 Thread 'MainThread': missing ScriptRunContext! This warning can be ignored when running in bare mode.\n",
            "2025-04-02 03:55:38.921 Thread 'MainThread': missing ScriptRunContext! This warning can be ignored when running in bare mode.\n",
            "2025-04-02 03:55:38.921 Thread 'MainThread': missing ScriptRunContext! This warning can be ignored when running in bare mode.\n",
            "2025-04-02 03:55:38.922 Thread 'MainThread': missing ScriptRunContext! This warning can be ignored when running in bare mode.\n",
            "2025-04-02 03:55:38.923 Thread 'MainThread': missing ScriptRunContext! This warning can be ignored when running in bare mode.\n",
            "2025-04-02 03:55:38.923 Thread 'MainThread': missing ScriptRunContext! This warning can be ignored when running in bare mode.\n",
            "2025-04-02 03:55:38.924 Thread 'MainThread': missing ScriptRunContext! This warning can be ignored when running in bare mode.\n",
            "2025-04-02 03:55:38.924 Thread 'MainThread': missing ScriptRunContext! This warning can be ignored when running in bare mode.\n",
            "2025-04-02 03:55:38.925 Thread 'MainThread': missing ScriptRunContext! This warning can be ignored when running in bare mode.\n",
            "2025-04-02 03:55:38.926 Thread 'MainThread': missing ScriptRunContext! This warning can be ignored when running in bare mode.\n",
            "2025-04-02 03:55:38.927 Thread 'MainThread': missing ScriptRunContext! This warning can be ignored when running in bare mode.\n",
            "2025-04-02 03:55:38.927 Thread 'MainThread': missing ScriptRunContext! This warning can be ignored when running in bare mode.\n",
            "2025-04-02 03:55:38.928 Thread 'MainThread': missing ScriptRunContext! This warning can be ignored when running in bare mode.\n",
            "2025-04-02 03:55:38.929 Thread 'MainThread': missing ScriptRunContext! This warning can be ignored when running in bare mode.\n",
            "2025-04-02 03:55:38.930 Thread 'MainThread': missing ScriptRunContext! This warning can be ignored when running in bare mode.\n",
            "2025-04-02 03:55:38.930 Thread 'MainThread': missing ScriptRunContext! This warning can be ignored when running in bare mode.\n",
            "2025-04-02 03:55:38.931 Thread 'MainThread': missing ScriptRunContext! This warning can be ignored when running in bare mode.\n",
            "2025-04-02 03:55:38.931 Thread 'MainThread': missing ScriptRunContext! This warning can be ignored when running in bare mode.\n",
            "2025-04-02 03:55:38.932 Thread 'MainThread': missing ScriptRunContext! This warning can be ignored when running in bare mode.\n",
            "2025-04-02 03:55:38.933 Thread 'MainThread': missing ScriptRunContext! This warning can be ignored when running in bare mode.\n",
            "2025-04-02 03:55:38.933 Thread 'MainThread': missing ScriptRunContext! This warning can be ignored when running in bare mode.\n",
            "2025-04-02 03:55:38.934 Thread 'MainThread': missing ScriptRunContext! This warning can be ignored when running in bare mode.\n",
            "2025-04-02 03:55:38.934 Thread 'MainThread': missing ScriptRunContext! This warning can be ignored when running in bare mode.\n",
            "2025-04-02 03:55:38.935 Thread 'MainThread': missing ScriptRunContext! This warning can be ignored when running in bare mode.\n",
            "2025-04-02 03:55:38.935 Thread 'MainThread': missing ScriptRunContext! This warning can be ignored when running in bare mode.\n",
            "2025-04-02 03:55:38.936 Thread 'MainThread': missing ScriptRunContext! This warning can be ignored when running in bare mode.\n",
            "2025-04-02 03:55:38.936 Thread 'MainThread': missing ScriptRunContext! This warning can be ignored when running in bare mode.\n",
            "2025-04-02 03:55:38.937 Thread 'MainThread': missing ScriptRunContext! This warning can be ignored when running in bare mode.\n",
            "2025-04-02 03:55:38.937 Thread 'MainThread': missing ScriptRunContext! This warning can be ignored when running in bare mode.\n",
            "2025-04-02 03:55:38.938 Thread 'MainThread': missing ScriptRunContext! This warning can be ignored when running in bare mode.\n",
            "2025-04-02 03:55:38.938 Thread 'MainThread': missing ScriptRunContext! This warning can be ignored when running in bare mode.\n",
            "2025-04-02 03:55:38.939 Thread 'MainThread': missing ScriptRunContext! This warning can be ignored when running in bare mode.\n",
            "2025-04-02 03:55:38.939 Thread 'MainThread': missing ScriptRunContext! This warning can be ignored when running in bare mode.\n",
            "2025-04-02 03:55:38.940 Thread 'MainThread': missing ScriptRunContext! This warning can be ignored when running in bare mode.\n",
            "2025-04-02 03:55:38.940 Thread 'MainThread': missing ScriptRunContext! This warning can be ignored when running in bare mode.\n"
          ]
        }
      ]
    },
    {
      "cell_type": "code",
      "source": [],
      "metadata": {
        "id": "iBWWynrJcsX-"
      },
      "execution_count": null,
      "outputs": []
    },
    {
      "cell_type": "code",
      "source": [],
      "metadata": {
        "id": "WGgL6yyXcsqL"
      },
      "execution_count": null,
      "outputs": []
    },
    {
      "cell_type": "code",
      "source": [],
      "metadata": {
        "id": "PCG_oboIcs1g"
      },
      "execution_count": null,
      "outputs": []
    }
  ]
}